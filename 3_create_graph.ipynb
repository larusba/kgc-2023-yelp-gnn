{
 "cells": [
  {
   "attachments": {},
   "cell_type": "markdown",
   "metadata": {},
   "source": [
    "# Here we create and save the DGL Graph"
   ]
  },
  {
   "cell_type": "code",
   "execution_count": 2,
   "metadata": {},
   "outputs": [],
   "source": [
    "import torch\n",
    "import dgl\n",
    "import pandas as pd"
   ]
  },
  {
   "cell_type": "code",
   "execution_count": 38,
   "metadata": {},
   "outputs": [],
   "source": [
    "# NODES\n",
    "business = torch.load('preprocessed/business_feature.pt')\n",
    "business_ids = pd.read_csv('preprocessed/business_ids.csv')\n",
    "user = torch.load('preprocessed/user_feature.pt')\n",
    "user_ids = pd.read_csv('preprocessed/user_ids.csv')\n",
    "review = torch.load('preprocessed/review_features.pt')\n",
    "review_ids = pd.read_csv('preprocessed/review_ids.csv')\n",
    "tip = torch.load('preprocessed/tip_features.pt')\n",
    "tip_ids = pd.read_csv('preprocessed/tip_ids.csv')\n",
    "category = torch.load('preprocessed/category_features.pt')\n",
    "category_ids = pd.read_csv('preprocessed/category_ids.csv')\n",
    "\n",
    "\n",
    "# RELS\n",
    "business_has_category = torch.load('preprocessed/business_category.pt').long()\n",
    "review_to_business = torch.load('preprocessed/review_business.pt').long()\n",
    "tip_to_business = torch.load('preprocessed/tip_business.pt').long()\n",
    "user_to_review = torch.load('preprocessed/user_review.pt').long()\n",
    "user_to_tip = torch.load('preprocessed/user_tip.pt').long()\n",
    "user_to_user = torch.load('preprocessed/user_user.pt').long()"
   ]
  },
  {
   "cell_type": "code",
   "execution_count": 33,
   "metadata": {},
   "outputs": [
    {
     "data": {
      "text/plain": [
       "torch.Size([6989558])"
      ]
     },
     "execution_count": 33,
     "metadata": {},
     "output_type": "execute_result"
    }
   ],
   "source": [
    "review_to_business[:, 1].shape"
   ]
  },
  {
   "cell_type": "code",
   "execution_count": 42,
   "metadata": {},
   "outputs": [],
   "source": [
    "graph = dgl.heterograph({\n",
    "    ('business', 'business_has_category', 'category'): (business_has_category[:, 0], business_has_category[:, 1]),\n",
    "    ('review', 'review_to_business', 'business'): (review_to_business[:, 0], review_to_business[:, 1]),\n",
    "    ('tip', 'tip_to_business', 'business'): (tip_to_business[:, 0], tip_to_business[:, 1]),\n",
    "    ('user', 'user_to_review', 'review'): (user_to_review[:, 0], user_to_review[:, 1]),\n",
    "    ('user', 'user_to_tip', 'tip'): (user_to_tip[:, 0], user_to_tip[:, 1]),\n",
    "    ('user', 'user_to_user', 'user'): (user_to_user[:, 0], user_to_user[:, 1])\n",
    "}, num_nodes_dict = {\n",
    "    'business': business.shape[0],\n",
    "    'tip': tip.shape[0],\n",
    "    'review': review.shape[0],\n",
    "    'user': user.shape[0],\n",
    "    'category': category.shape[0]\n",
    "})"
   ]
  },
  {
   "cell_type": "code",
   "execution_count": 46,
   "metadata": {},
   "outputs": [
    {
     "data": {
      "text/plain": [
       "10037887"
      ]
     },
     "execution_count": 46,
     "metadata": {},
     "output_type": "execute_result"
    }
   ],
   "source": [
    "graph.num_nodes()"
   ]
  },
  {
   "cell_type": "code",
   "execution_count": 50,
   "metadata": {},
   "outputs": [
    {
     "data": {
      "text/plain": [
       "array(['c68f8fcd92fd90c9044c0d3e261ec384',\n",
       "       '6fe53dc4393776783492cf1b4666578a',\n",
       "       'ac92e7dd1ea2adde16074a436d532775', ...,\n",
       "       'f15f48cbbc7a8aea4e8f226899a8a5fd',\n",
       "       'b397edd35777a9f6036119e6ced96ff6',\n",
       "       '00f6fc6048f7fb601e7bae3c43ec81ee'], dtype=object)"
      ]
     },
     "execution_count": 50,
     "metadata": {},
     "output_type": "execute_result"
    }
   ],
   "source": [
    "category_ids['category_id:ID'].values"
   ]
  },
  {
   "cell_type": "code",
   "execution_count": 57,
   "metadata": {},
   "outputs": [],
   "source": [
    "graph.ndata['feat'] = {\n",
    "    'business': business,\n",
    "    'tip': tip,\n",
    "    'review': review,\n",
    "    'user': user,\n",
    "    'category': category\n",
    "}"
   ]
  },
  {
   "cell_type": "code",
   "execution_count": 54,
   "metadata": {},
   "outputs": [
    {
     "data": {
      "text/plain": [
       "business_id:ID    dd12270ae4890bb5d953851052701e66\n",
       "Name: 123432, dtype: object"
      ]
     },
     "execution_count": 54,
     "metadata": {},
     "output_type": "execute_result"
    }
   ],
   "source": [
    "business_ids.loc[123432]"
   ]
  },
  {
   "cell_type": "code",
   "execution_count": 56,
   "metadata": {},
   "outputs": [
    {
     "data": {
      "text/plain": [
       "tensor([ 39.8568, -86.0082,   4.0000, 324.0000,   1.0000,   1.0000,   1.0000,\n",
       "          0.0000,   0.0000,   0.0000,   0.0000,   0.0000,   0.0000,   0.0000,\n",
       "          0.0000,   0.0000,   0.0000,   0.0000,   0.0000,   0.0000,   0.0000,\n",
       "          0.0000,   0.0000,   0.0000,   1.0000,   1.0000,   0.0000,   0.0000,\n",
       "          0.0000,   1.0000,   0.0000,   0.0000,   0.0000,   1.0000,   0.0000,\n",
       "          0.0000,   0.0000,   1.0000,   0.0000,   0.0000,   1.0000,   1.0000,\n",
       "          0.0000,   1.0000,   0.0000,   1.0000,   0.0000,   1.0000,   0.0000,\n",
       "          1.0000,   0.0000,   0.0000,   0.0000,   1.0000,   0.0000,   0.0000,\n",
       "          0.0000,   0.0000,   1.0000,   0.0000,   0.0000,   0.0000,   0.0000,\n",
       "          1.0000,   0.0000,   0.0000,   0.0000,   1.0000,   1.0000,   0.0000,\n",
       "          0.0000,   0.0000,   0.0000,   0.0000,   1.0000,   0.0000,   0.0000,\n",
       "          0.0000,   0.0000,   0.0000,   0.0000,   1.0000,   0.0000,   1.0000,\n",
       "          0.0000,   0.0000,   0.0000,   0.0000,   1.0000,   0.0000,   0.0000,\n",
       "          1.0000,   1.0000,   0.0000,   0.0000,   0.0000,   0.0000,   0.0000,\n",
       "          1.0000,   0.0000,   0.0000,   0.0000,   0.0000,   0.0000,   0.0000,\n",
       "          0.0000,   0.0000,   0.0000,   0.0000,   0.0000,   0.0000,   1.0000,\n",
       "          0.0000,   1.0000,   0.0000,   0.0000,   1.0000,   0.0000,   1.0000,\n",
       "          1.0000,   0.0000,   0.0000,   0.0000,   0.0000,   1.0000,   0.0000,\n",
       "          0.0000,   0.0000,   0.0000,   0.0000,   0.0000,   1.0000,   0.0000,\n",
       "          0.0000,   0.0000,   0.0000,   0.0000,   1.0000,   0.0000,   0.0000,\n",
       "          1.0000,   1.0000,   0.0000,   0.0000,   1.0000,   0.0000,   0.0000,\n",
       "          0.0000,   0.0000,   1.0000,   0.0000], dtype=torch.float64)"
      ]
     },
     "execution_count": 56,
     "metadata": {},
     "output_type": "execute_result"
    }
   ],
   "source": [
    "business[123432] # to see the mapping in neo4j"
   ]
  },
  {
   "cell_type": "code",
   "execution_count": 59,
   "metadata": {},
   "outputs": [],
   "source": [
    "dgl.save_graphs('preprocessed/graph.dgl', [graph])"
   ]
  },
  {
   "cell_type": "code",
   "execution_count": 68,
   "metadata": {},
   "outputs": [],
   "source": [
    "graph = dgl.load_graphs('preprocessed/graph.dgl')\n",
    "graph = graph[0][0]"
   ]
  }
 ],
 "metadata": {
  "kernelspec": {
   "display_name": "base",
   "language": "python",
   "name": "python3"
  },
  "language_info": {
   "codemirror_mode": {
    "name": "ipython",
    "version": 3
   },
   "file_extension": ".py",
   "mimetype": "text/x-python",
   "name": "python",
   "nbconvert_exporter": "python",
   "pygments_lexer": "ipython3",
   "version": "3.10.8"
  },
  "orig_nbformat": 4
 },
 "nbformat": 4,
 "nbformat_minor": 2
}
