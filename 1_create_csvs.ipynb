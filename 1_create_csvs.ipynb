{
 "cells": [
  {
   "cell_type": "code",
   "execution_count": null,
   "metadata": {},
   "outputs": [],
   "source": [
    "from ydata_profiling import ProfileReport\n",
    "import pandas as pd\n",
    "from itertools import chain\n",
    "from collections import Counter\n",
    "import hashlib\n",
    "\n",
    "from utils import get_table\n",
    "\n",
    "# md5hash and md5hash with prefix are needed to create unique global id for each node type \n",
    "def md5hash(s: str): \n",
    "    return hashlib.md5(str(s).encode('utf-8')).hexdigest()\n",
    "\n",
    "def getmd5hash(prefix):\n",
    "    return lambda x: md5hash(prefix + x)"
   ]
  },
  {
   "attachments": {},
   "cell_type": "markdown",
   "metadata": {},
   "source": [
    "## Business"
   ]
  },
  {
   "cell_type": "code",
   "execution_count": null,
   "metadata": {},
   "outputs": [],
   "source": [
    "\n",
    "business_df = get_table('yelp_dataset/yelp_academic_dataset_business.json')\n",
    "\n",
    "business_df = business_df[business_df['categories'].notna()]\n",
    "business_df['business_id'] = business_df['business_id'].apply(getmd5hash('business'))\n",
    "business_df.insert(loc=0, column=':LABEL', value=['Business']*len(business_df))\n"
   ]
  },
  {
   "cell_type": "code",
   "execution_count": null,
   "metadata": {},
   "outputs": [],
   "source": [
    "# profile report is useful to get first insights on the dataset\n",
    "profile = ProfileReport(business_df, title=\"Businesses Report\")\n",
    "profile.to_file(\"businesses_report.html\")\n",
    "\n",
    "print(business_df[business_df['categories'].isna()])\n",
    "profile = ProfileReport(business_df[business_df['categories'].isna()], title=\"Businesses Report Category na\")\n",
    "profile.to_file(\"businesses_report_category_na.html\")\n"
   ]
  },
  {
   "attachments": {},
   "cell_type": "markdown",
   "metadata": {},
   "source": [
    "## Category"
   ]
  },
  {
   "cell_type": "code",
   "execution_count": null,
   "metadata": {},
   "outputs": [],
   "source": [
    "categories = business_df['categories'].to_list()\n",
    "categories = set(chain.from_iterable([[cat.strip() for cat in c.split(',')] for c in categories]))\n",
    "categories_df = pd.DataFrame(categories, columns=['name'])\n",
    "categories_df.insert(loc=0, column='category_id:ID', value=categories_df['name'].apply(md5hash))\n",
    "categories_df.insert(loc=2, column=':LABEL', value=['Category']*len(categories_df))\n",
    "\n",
    "business_df.rename(columns={\"business_id\": \"business_id:ID\"}, errors='raise', inplace=True)\n",
    "\n",
    "category_business_rels = []\n",
    "for _, row in business_df.iterrows():\n",
    "    for category in row['categories'].split(','):\n",
    "        category = category.strip()\n",
    "        category_id = md5hash(category)\n",
    "        business_id = row['business_id:ID']\n",
    "        category_business_rels.append([business_id, category_id, 'HAS_CATEGORY'])\n",
    "\n",
    "category_business_rels_df = pd.DataFrame(category_business_rels, columns=[':START_ID', ':END_ID', ':TYPE'])"
   ]
  },
  {
   "attachments": {},
   "cell_type": "markdown",
   "metadata": {},
   "source": [
    "## User"
   ]
  },
  {
   "cell_type": "code",
   "execution_count": null,
   "metadata": {},
   "outputs": [],
   "source": [
    "user_df = get_table('yelp_dataset/yelp_academic_dataset_user.json')\n",
    "user_df.rename(columns={\"user_id\": \"user_id:ID\"}, errors='raise', inplace=True)\n",
    "user_df.insert(loc=22, column=':LABEL', value=['User']*len(user_df))"
   ]
  },
  {
   "attachments": {},
   "cell_type": "markdown",
   "metadata": {},
   "source": [
    "## Friends"
   ]
  },
  {
   "cell_type": "code",
   "execution_count": null,
   "metadata": {},
   "outputs": [],
   "source": [
    "friends = user_df[['user_id:ID', 'friends']].copy()\n",
    "friends['friends'] = friends['friends'].str.split(',')\n",
    "friends = friends.explode('friends')\n",
    "friends = friends[friends['friends'].isin(friends['user_id:ID'])]\n",
    "friends = pd.concat([friends, friends.rename(columns={\"friends\": \"user_id:ID\", \"user_id:ID\": \"friends\"}, errors=\"raise\")]).drop_duplicates(subset = [\"friends\", \"user_id:ID\"])\n",
    "friends.insert(loc=2, column=':TYPE', value=['FRIEND_OF']*len(friends))\n",
    "friends.rename(columns={\"user_id:ID\": \":START_ID\", \"friends\":\":END_ID\"}, errors='raise', inplace=True)\n"
   ]
  },
  {
   "attachments": {},
   "cell_type": "markdown",
   "metadata": {},
   "source": [
    "## Review"
   ]
  },
  {
   "cell_type": "code",
   "execution_count": null,
   "metadata": {},
   "outputs": [],
   "source": [
    "review_df = get_table('yelp_dataset/yelp_academic_dataset_review.json')\n",
    "review_df['business_id'] = review_df['business_id'].apply(getmd5hash('business'))\n",
    "review_df = review_df[review_df['business_id'].isin(business_df['business_id:ID'])]\n",
    "review_df = review_df[review_df['user_id'].isin(user_df['user_id:ID'])]\n",
    "\n",
    "review_df.insert(loc=0, column=':LABEL', value=['Review']*len(review_df))\n",
    "\n",
    "review_df['text'] = review_df['text'].str.replace('[\",\\\\n,\\\\r]', '')\n",
    "review_df['review_id'] = review_df['review_id'].apply(getmd5hash('review')) # we need global ids (review_id and user_id share some values)\n",
    "\n",
    "\n",
    "review_business_rels_df = review_df[['review_id', 'business_id']].copy().rename(columns={\"review_id\": \":START_ID\", \"business_id\": \":END_ID\"}, errors='raise')\n",
    "review_business_rels_df.insert(loc=2, column=':TYPE', value=['REVIEW_BUSINESS']*len(review_df))\n",
    "\n",
    "user_review_rels_df = review_df[['user_id', 'review_id']].copy().rename(columns={\"user_id\": \":START_ID\", \"review_id\": \":END_ID\"}, errors='raise')\n",
    "user_review_rels_df.insert(loc=2, column=':TYPE', value=['USER_REVIEW']*len(review_df))\n",
    "\n",
    "review_df.rename(columns={\"review_id\": \"review_id:ID\",'stars':'stars:float','useful':'useful:float','funny':'funny:float','cool':'cool:float'}, errors='raise', inplace=True)\n",
    "review_df.drop(columns=['user_id', 'business_id'], inplace=True)"
   ]
  },
  {
   "attachments": {},
   "cell_type": "markdown",
   "metadata": {},
   "source": [
    "## Tip"
   ]
  },
  {
   "cell_type": "code",
   "execution_count": null,
   "metadata": {},
   "outputs": [],
   "source": [
    "tip_df = get_table('yelp_dataset/yelp_academic_dataset_tip.json')\n",
    "tip_df['business_id'] = tip_df['business_id'].apply(getmd5hash('business'))\n",
    "tip_df = tip_df[tip_df['business_id'].isin(business_df['business_id:ID'])]\n",
    "tip_df = tip_df[tip_df['user_id'].isin(user_df['user_id:ID'])]\n",
    "tip_df.insert(loc=0, column=':LABEL', value=['Tip']*len(tip_df))\n",
    "\n",
    "tip_df['index'] = tip_df.index\n",
    "tip_df.insert(loc=0, column='tip_id', value=tip_df['index'].apply(md5hash))\n",
    "\n",
    "\n",
    "tip_df['text'] = tip_df['text'].str.replace('[\",\\\\n,\\\\r]', '')\n",
    "tip_business_rels_df = tip_df[['tip_id', 'business_id']].copy().rename(columns={\"tip_id\": \":START_ID\", \"business_id\": \":END_ID\"}, errors='raise')\n",
    "tip_business_rels_df.insert(loc=2, column=':TYPE', value=['TIP_BUSINESS']*len(tip_df))\n",
    "\n",
    "user_tip_rels_df = tip_df[['user_id', 'tip_id']].copy().rename(columns={\"user_id\": \":START_ID\", \"tip_id\": \":END_ID\"}, errors='raise')\n",
    "user_tip_rels_df.insert(loc=2, column=':TYPE', value=['USER_TIP']*len(tip_df))\n",
    "\n",
    "tip_df.rename(columns={\"tip_id\": \"tip_id:ID\"}, errors='raise', inplace=True)\n",
    "tip_df.drop(columns=['index', 'user_id', 'business_id'], inplace=True)\n"
   ]
  },
  {
   "attachments": {},
   "cell_type": "markdown",
   "metadata": {},
   "source": [
    "## Save"
   ]
  },
  {
   "cell_type": "code",
   "execution_count": null,
   "metadata": {},
   "outputs": [],
   "source": [
    "business_df.to_csv('neo4j_csvs/business.csv', index=False)\n",
    "categories_df.to_csv('neo4j_csvs/categories.csv', index=False)\n",
    "category_business_rels_df.to_csv('neo4j_csvs/category_business_rels.csv', index=False)\n",
    "user_df.to_csv('neo4j_csvs/user.csv', index=False)\n",
    "\n",
    "friends.to_csv('neo4j_csvs/user_user_rels.csv', index=False)\n",
    "\n",
    "review_df.to_csv('neo4j_csvs/review.csv', index=False)\n",
    "review_business_rels_df.to_csv('neo4j_csvs/review_business_rels.csv', index=False)\n",
    "user_review_rels_df.to_csv('neo4j_csvs/user_review_rels.csv', index=False)\n",
    "\n",
    "tip_df.to_csv('neo4j_csvs/tip.csv', index=False)\n",
    "tip_business_rels_df.to_csv('neo4j_csvs/tip_business_rels.csv', index=False)\n",
    "user_tip_rels_df.to_csv('neo4j_csvs/user_tip_rels.csv', index=False)"
   ]
  },
  {
   "attachments": {},
   "cell_type": "markdown",
   "metadata": {},
   "source": [
    "## Neo4j commands"
   ]
  },
  {
   "attachments": {},
   "cell_type": "markdown",
   "metadata": {},
   "source": [
    "1. Open neo4j db folder\n",
    "2. Move files inside neo4j import folder\n",
    "3. Run command: \n",
    "```\n",
    "bin/neo4j-admin database import full --nodes=import/business.csv --nodes=import/categories.csv --nodes=import/review.csv --nodes=import/tip.csv --nodes=import/user.csv --relationships=import/category_business_rels.csv --relationships=import/review_business_rels.csv --relationships=import/tip_business_rels.csv --relationships=import/user_review_rels.csv --relationships=import/user_tip_rels.csv --relationships=import/user_user_rels.csv --overwrite-destination neo4j\n",
    " ```"
   ]
  },
  {
   "cell_type": "code",
   "execution_count": null,
   "metadata": {},
   "outputs": [],
   "source": []
  }
 ],
 "metadata": {
  "language_info": {
   "name": "python"
  },
  "orig_nbformat": 4
 },
 "nbformat": 4,
 "nbformat_minor": 2
}
