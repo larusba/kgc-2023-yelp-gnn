{
 "cells": [
  {
   "attachments": {},
   "cell_type": "markdown",
   "metadata": {},
   "source": [
    "# Create Dataset\n",
    "\n",
    "Here we have to decide how to split the dataset to create training/val/test sets.  \n",
    "We decided to:\n",
    "1. Create the graph with all the reviews before 2021 using reviews as nodes.\n",
    "2. Then the dropped reviews are divided into positive (1) if they have 4 or 5 stars and negative (0) if they have 1 or 2 stars:\n",
    "- reviews in 2021 form training and validation sets (80/20)\n",
    "- reviews in 2022 form test set\n"
   ]
  },
  {
   "cell_type": "code",
   "execution_count": 49,
   "metadata": {},
   "outputs": [],
   "source": [
    "import pandas as pd\n",
    "import torch\n",
    "import dgl"
   ]
  },
  {
   "cell_type": "code",
   "execution_count": 3,
   "metadata": {},
   "outputs": [],
   "source": [
    "review_df = pd.read_csv('neo4j_csvs/review.csv')"
   ]
  },
  {
   "cell_type": "code",
   "execution_count": 22,
   "metadata": {},
   "outputs": [],
   "source": [
    "review_ids = pd.read_csv('preprocessed/review_ids.csv')\n",
    "business_ids = pd.read_csv('preprocessed/business_ids.csv')\n",
    "user_ids = pd.read_csv('preprocessed/user_ids.csv')"
   ]
  },
  {
   "cell_type": "code",
   "execution_count": 11,
   "metadata": {},
   "outputs": [],
   "source": [
    "review_df['date'] = pd.to_datetime(review_df['date'], infer_datetime_format=True)  "
   ]
  },
  {
   "cell_type": "code",
   "execution_count": 29,
   "metadata": {},
   "outputs": [
    {
     "data": {
      "text/html": [
       "<div>\n",
       "<style scoped>\n",
       "    .dataframe tbody tr th:only-of-type {\n",
       "        vertical-align: middle;\n",
       "    }\n",
       "\n",
       "    .dataframe tbody tr th {\n",
       "        vertical-align: top;\n",
       "    }\n",
       "\n",
       "    .dataframe thead th {\n",
       "        text-align: right;\n",
       "    }\n",
       "</style>\n",
       "<table border=\"1\" class=\"dataframe\">\n",
       "  <thead>\n",
       "    <tr style=\"text-align: right;\">\n",
       "      <th></th>\n",
       "      <th>:LABEL</th>\n",
       "      <th>review_id:ID</th>\n",
       "      <th>stars:float</th>\n",
       "      <th>useful:float</th>\n",
       "      <th>funny:float</th>\n",
       "      <th>cool:float</th>\n",
       "      <th>text</th>\n",
       "      <th>date</th>\n",
       "    </tr>\n",
       "  </thead>\n",
       "  <tbody>\n",
       "    <tr>\n",
       "      <th>0</th>\n",
       "      <td>Review</td>\n",
       "      <td>14b7eabcf7250cac8884af3677c0b8af</td>\n",
       "      <td>3.0</td>\n",
       "      <td>0</td>\n",
       "      <td>0</td>\n",
       "      <td>0</td>\n",
       "      <td>If you decide to eat here just be aware it is ...</td>\n",
       "      <td>2018-07-07 22:09:11</td>\n",
       "    </tr>\n",
       "    <tr>\n",
       "      <th>1</th>\n",
       "      <td>Review</td>\n",
       "      <td>0baa75e21e14c71f057e9ad453082867</td>\n",
       "      <td>5.0</td>\n",
       "      <td>1</td>\n",
       "      <td>0</td>\n",
       "      <td>1</td>\n",
       "      <td>I've taken a lot of spin classes over the year...</td>\n",
       "      <td>2012-01-03 15:28:18</td>\n",
       "    </tr>\n",
       "    <tr>\n",
       "      <th>2</th>\n",
       "      <td>Review</td>\n",
       "      <td>af722966fda3d69d36a0ac9de0292e51</td>\n",
       "      <td>3.0</td>\n",
       "      <td>0</td>\n",
       "      <td>0</td>\n",
       "      <td>0</td>\n",
       "      <td>Family diner. Had the buffet. Eclectic assortm...</td>\n",
       "      <td>2014-02-05 20:30:30</td>\n",
       "    </tr>\n",
       "    <tr>\n",
       "      <th>3</th>\n",
       "      <td>Review</td>\n",
       "      <td>50d32c50663bd2b424f57561a09cbfda</td>\n",
       "      <td>5.0</td>\n",
       "      <td>1</td>\n",
       "      <td>0</td>\n",
       "      <td>1</td>\n",
       "      <td>Wow!  Yummy different  delicious.   Our favori...</td>\n",
       "      <td>2015-01-04 00:01:03</td>\n",
       "    </tr>\n",
       "    <tr>\n",
       "      <th>4</th>\n",
       "      <td>Review</td>\n",
       "      <td>a3383e594a74583aabcda6de8e3cb8a8</td>\n",
       "      <td>4.0</td>\n",
       "      <td>1</td>\n",
       "      <td>0</td>\n",
       "      <td>1</td>\n",
       "      <td>Cute interior and owner (?) gave us tour of up...</td>\n",
       "      <td>2017-01-14 20:54:15</td>\n",
       "    </tr>\n",
       "    <tr>\n",
       "      <th>...</th>\n",
       "      <td>...</td>\n",
       "      <td>...</td>\n",
       "      <td>...</td>\n",
       "      <td>...</td>\n",
       "      <td>...</td>\n",
       "      <td>...</td>\n",
       "      <td>...</td>\n",
       "      <td>...</td>\n",
       "    </tr>\n",
       "    <tr>\n",
       "      <th>6989553</th>\n",
       "      <td>Review</td>\n",
       "      <td>94e309064b7859538c514528e80db157</td>\n",
       "      <td>5.0</td>\n",
       "      <td>1</td>\n",
       "      <td>2</td>\n",
       "      <td>1</td>\n",
       "      <td>Latest addition to services from ICCU is Apple...</td>\n",
       "      <td>2014-12-17 21:45:20</td>\n",
       "    </tr>\n",
       "    <tr>\n",
       "      <th>6989554</th>\n",
       "      <td>Review</td>\n",
       "      <td>2d0aa703beebc1996c58711a6e4b04e3</td>\n",
       "      <td>5.0</td>\n",
       "      <td>2</td>\n",
       "      <td>1</td>\n",
       "      <td>2</td>\n",
       "      <td>This spot offers a great affordable east weeke...</td>\n",
       "      <td>2021-03-31 16:55:10</td>\n",
       "    </tr>\n",
       "    <tr>\n",
       "      <th>6989555</th>\n",
       "      <td>Review</td>\n",
       "      <td>eaac0ea0e1fb9aab851008575a49c98c</td>\n",
       "      <td>4.0</td>\n",
       "      <td>1</td>\n",
       "      <td>0</td>\n",
       "      <td>0</td>\n",
       "      <td>This Home Depot won me over when I needed to g...</td>\n",
       "      <td>2019-12-30 03:56:30</td>\n",
       "    </tr>\n",
       "    <tr>\n",
       "      <th>6989556</th>\n",
       "      <td>Review</td>\n",
       "      <td>0dab15fea0a38d0f706afeed71945194</td>\n",
       "      <td>5.0</td>\n",
       "      <td>1</td>\n",
       "      <td>0</td>\n",
       "      <td>0</td>\n",
       "      <td>For when I'm feeling like ignoring my calorie-...</td>\n",
       "      <td>2022-01-19 18:59:27</td>\n",
       "    </tr>\n",
       "    <tr>\n",
       "      <th>6989557</th>\n",
       "      <td>Review</td>\n",
       "      <td>c8f2c9be46a45c9378399c7afd1066af</td>\n",
       "      <td>3.0</td>\n",
       "      <td>10</td>\n",
       "      <td>3</td>\n",
       "      <td>7</td>\n",
       "      <td>Located in the 'Walking District' in Nashville...</td>\n",
       "      <td>2018-01-02 22:50:47</td>\n",
       "    </tr>\n",
       "  </tbody>\n",
       "</table>\n",
       "<p>6989558 rows × 8 columns</p>\n",
       "</div>"
      ],
      "text/plain": [
       "         :LABEL                      review_id:ID  stars:float  useful:float  \\\n",
       "0        Review  14b7eabcf7250cac8884af3677c0b8af          3.0             0   \n",
       "1        Review  0baa75e21e14c71f057e9ad453082867          5.0             1   \n",
       "2        Review  af722966fda3d69d36a0ac9de0292e51          3.0             0   \n",
       "3        Review  50d32c50663bd2b424f57561a09cbfda          5.0             1   \n",
       "4        Review  a3383e594a74583aabcda6de8e3cb8a8          4.0             1   \n",
       "...         ...                               ...          ...           ...   \n",
       "6989553  Review  94e309064b7859538c514528e80db157          5.0             1   \n",
       "6989554  Review  2d0aa703beebc1996c58711a6e4b04e3          5.0             2   \n",
       "6989555  Review  eaac0ea0e1fb9aab851008575a49c98c          4.0             1   \n",
       "6989556  Review  0dab15fea0a38d0f706afeed71945194          5.0             1   \n",
       "6989557  Review  c8f2c9be46a45c9378399c7afd1066af          3.0            10   \n",
       "\n",
       "         funny:float  cool:float  \\\n",
       "0                  0           0   \n",
       "1                  0           1   \n",
       "2                  0           0   \n",
       "3                  0           1   \n",
       "4                  0           1   \n",
       "...              ...         ...   \n",
       "6989553            2           1   \n",
       "6989554            1           2   \n",
       "6989555            0           0   \n",
       "6989556            0           0   \n",
       "6989557            3           7   \n",
       "\n",
       "                                                      text                date  \n",
       "0        If you decide to eat here just be aware it is ... 2018-07-07 22:09:11  \n",
       "1        I've taken a lot of spin classes over the year... 2012-01-03 15:28:18  \n",
       "2        Family diner. Had the buffet. Eclectic assortm... 2014-02-05 20:30:30  \n",
       "3        Wow!  Yummy different  delicious.   Our favori... 2015-01-04 00:01:03  \n",
       "4        Cute interior and owner (?) gave us tour of up... 2017-01-14 20:54:15  \n",
       "...                                                    ...                 ...  \n",
       "6989553  Latest addition to services from ICCU is Apple... 2014-12-17 21:45:20  \n",
       "6989554  This spot offers a great affordable east weeke... 2021-03-31 16:55:10  \n",
       "6989555  This Home Depot won me over when I needed to g... 2019-12-30 03:56:30  \n",
       "6989556  For when I'm feeling like ignoring my calorie-... 2022-01-19 18:59:27  \n",
       "6989557  Located in the 'Walking District' in Nashville... 2018-01-02 22:50:47  \n",
       "\n",
       "[6989558 rows x 8 columns]"
      ]
     },
     "execution_count": 29,
     "metadata": {},
     "output_type": "execute_result"
    }
   ],
   "source": [
    "review_df"
   ]
  },
  {
   "cell_type": "code",
   "execution_count": 43,
   "metadata": {},
   "outputs": [],
   "source": [
    "train_pos = review_df[(review_df['date'].dt.year == 2021) & (review_df['stars:float'] > 3)]\n",
    "train_neg = review_df[(review_df['date'].dt.year == 2021) & (review_df['stars:float'] < 3)]\n",
    "test_pos = review_df[(review_df['date'].dt.year == 2022) & (review_df['stars:float'] > 3)]\n",
    "test_neg = review_df[(review_df['date'].dt.year == 2022) & (review_df['stars:float'] < 3)]"
   ]
  },
  {
   "cell_type": "code",
   "execution_count": 44,
   "metadata": {},
   "outputs": [],
   "source": [
    "train_pos = torch.tensor(review_ids[review_ids['review_id:ID'].isin(train_pos['review_id:ID'])].index.values)\n",
    "train_neg = torch.tensor(review_ids[review_ids['review_id:ID'].isin(train_neg['review_id:ID'])].index.values)\n",
    "\n",
    "test_pos = torch.tensor(review_ids[review_ids['review_id:ID'].isin(test_pos['review_id:ID'])].index.values)\n",
    "test_neg = torch.tensor(review_ids[review_ids['review_id:ID'].isin(test_neg['review_id:ID'])].index.values)"
   ]
  },
  {
   "cell_type": "code",
   "execution_count": 50,
   "metadata": {},
   "outputs": [],
   "source": [
    "graph = dgl.load_graphs('preprocessed/graph.dgl')\n",
    "graph = graph[0][0]"
   ]
  },
  {
   "cell_type": "code",
   "execution_count": 55,
   "metadata": {},
   "outputs": [],
   "source": [
    "train_business_pos = graph.out_edges(train_pos, etype='review_to_business')[1]\n",
    "train_business_neg = graph.out_edges(train_neg, etype='review_to_business')[1]\n",
    "test_business_pos = graph.out_edges(test_pos, etype='review_to_business')[1]\n",
    "test_business_neg = graph.out_edges(test_neg, etype='review_to_business')[1]\n",
    "\n",
    "train_user_pos = graph.in_edges(train_pos, etype='user_to_review')[0]\n",
    "train_user_neg = graph.in_edges(train_neg, etype='user_to_review')[0]\n",
    "test_user_pos = graph.in_edges(test_pos, etype='user_to_review')[0]\n",
    "test_user_neg = graph.in_edges(test_neg, etype='user_to_review')[0]"
   ]
  },
  {
   "cell_type": "code",
   "execution_count": 66,
   "metadata": {},
   "outputs": [],
   "source": [
    "gen1 = torch.Generator().manual_seed(42)\n",
    "gen2 = torch.Generator().manual_seed(42)\n",
    "split_pos = torch.utils.data.random_split(range(train_user_pos.shape[0]), [0.8, 0.2], generator=gen1)\n",
    "split_neg = torch.utils.data.random_split(range(train_user_neg.shape[0]), [0.8, 0.2], generator=gen2)"
   ]
  },
  {
   "cell_type": "code",
   "execution_count": 67,
   "metadata": {},
   "outputs": [],
   "source": [
    "train_user_pos_final = torch.index_select(train_user_pos, 0, torch.tensor(split_pos[0]))\n",
    "val_user_pos_final = torch.index_select(train_user_pos, 0, torch.tensor(split_pos[1]))\n",
    "\n",
    "train_business_pos_final = torch.index_select(train_business_pos, 0, torch.tensor(split_pos[0]))\n",
    "val_business_pos_final = torch.index_select(train_business_pos, 0, torch.tensor(split_pos[1]))"
   ]
  },
  {
   "cell_type": "code",
   "execution_count": 68,
   "metadata": {},
   "outputs": [],
   "source": [
    "train_user_neg_final = torch.index_select(train_user_neg, 0, torch.tensor(split_neg[0]))\n",
    "val_user_neg_final = torch.index_select(train_user_neg, 0, torch.tensor(split_neg[1]))\n",
    "\n",
    "train_business_neg_final = torch.index_select(train_business_neg, 0, torch.tensor(split_neg[0]))\n",
    "val_business_neg_final = torch.index_select(train_business_neg, 0, torch.tensor(split_neg[1]))"
   ]
  },
  {
   "cell_type": "code",
   "execution_count": 80,
   "metadata": {},
   "outputs": [],
   "source": [
    "train_pos = (train_user_pos_final, train_business_pos_final)\n",
    "train_neg = (train_user_neg_final, train_business_neg_final)\n",
    "\n",
    "val_pos = (val_user_pos_final, val_business_pos_final)\n",
    "val_neg = (val_user_neg_final, val_business_neg_final)\n",
    "\n",
    "test_pos = (test_user_pos, test_business_pos)\n",
    "test_neg = (test_user_neg, test_business_neg)"
   ]
  },
  {
   "cell_type": "code",
   "execution_count": 56,
   "metadata": {},
   "outputs": [],
   "source": [
    "graph = dgl.remove_nodes(graph, torch.tensor(review_ids[review_ids['review_id:ID'].isin(review_df[review_df['date'].dt.year >= 2021]['review_id:ID'])].index.values), ntype='review')"
   ]
  },
  {
   "cell_type": "code",
   "execution_count": 58,
   "metadata": {},
   "outputs": [
    {
     "data": {
      "text/plain": [
       "<bound method DGLGraph.num_nodes of Graph(num_nodes={'business': 150243, 'category': 1311, 'review': 6339837, 'tip': 908878, 'user': 1987897},\n",
       "      num_edges={('business', 'business_has_category', 'category'): 668592, ('review', 'review_to_business', 'business'): 6339837, ('tip', 'tip_to_business', 'business'): 908878, ('user', 'user_to_review', 'review'): 6339837, ('user', 'user_to_tip', 'tip'): 908878, ('user', 'user_to_user', 'user'): 437928},\n",
       "      metagraph=[('business', 'category', 'business_has_category'), ('review', 'business', 'review_to_business'), ('tip', 'business', 'tip_to_business'), ('user', 'review', 'user_to_review'), ('user', 'tip', 'user_to_tip'), ('user', 'user', 'user_to_user')])>"
      ]
     },
     "execution_count": 58,
     "metadata": {},
     "output_type": "execute_result"
    }
   ],
   "source": [
    "graph.num_nodes"
   ]
  },
  {
   "cell_type": "code",
   "execution_count": 81,
   "metadata": {},
   "outputs": [],
   "source": [
    "import pickle\n",
    "dgl.save_graphs('training_data/graph.dgl', [graph])\n",
    "\n",
    "with open('training_data/train.obj', 'wb') as fp:\n",
    "\tpickle.dump({'pos': train_pos, 'neg': train_neg}, fp)\n",
    "\n",
    "with open('training_data/val.obj', 'wb') as fp:\n",
    "\tpickle.dump({'pos': val_pos, 'neg': val_neg}, fp)\n",
    "\n",
    "with open('training_data/test.obj', 'wb') as fp:\n",
    "\tpickle.dump({'pos': test_pos, 'neg': test_neg}, fp)"
   ]
  }
 ],
 "metadata": {
  "kernelspec": {
   "display_name": "base",
   "language": "python",
   "name": "python3"
  },
  "language_info": {
   "codemirror_mode": {
    "name": "ipython",
    "version": 3
   },
   "file_extension": ".py",
   "mimetype": "text/x-python",
   "name": "python",
   "nbconvert_exporter": "python",
   "pygments_lexer": "ipython3",
   "version": "3.10.8"
  },
  "orig_nbformat": 4
 },
 "nbformat": 4,
 "nbformat_minor": 2
}
