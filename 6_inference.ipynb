{
 "cells": [
  {
   "attachments": {},
   "cell_type": "markdown",
   "metadata": {},
   "source": [
    "# Inference"
   ]
  },
  {
   "attachments": {},
   "cell_type": "markdown",
   "metadata": {},
   "source": [
    "```\n",
    "docker-compose up \n",
    "```"
   ]
  },
  {
   "attachments": {},
   "cell_type": "markdown",
   "metadata": {},
   "source": [
    "## connection"
   ]
  },
  {
   "cell_type": "code",
   "execution_count": 1,
   "metadata": {},
   "outputs": [
    {
     "data": {
      "text/plain": [
       "True"
      ]
     },
     "execution_count": 1,
     "metadata": {},
     "output_type": "execute_result"
    }
   ],
   "source": [
    "from qdrant_client import QdrantClient\n",
    "from qdrant_client.http.models import Distance, VectorParams\n",
    "\n",
    "client = QdrantClient(\"localhost\", port=6333)\n",
    "client.recreate_collection(\n",
    "    collection_name=\"business\",\n",
    "    vectors_config=VectorParams(size=128, distance=Distance.DOT),\n",
    ")"
   ]
  },
  {
   "cell_type": "code",
   "execution_count": 2,
   "metadata": {},
   "outputs": [
    {
     "data": {
      "text/plain": [
       "CollectionInfo(status=<CollectionStatus.GREEN: 'green'>, optimizer_status=<OptimizersStatusOneOf.OK: 'ok'>, vectors_count=0, indexed_vectors_count=0, points_count=0, segments_count=5, config=CollectionConfig(params=CollectionParams(vectors=VectorParams(size=128, distance=<Distance.DOT: 'Dot'>), shard_number=1, replication_factor=1, write_consistency_factor=1, on_disk_payload=True), hnsw_config=HnswConfig(m=16, ef_construct=100, full_scan_threshold=10000, max_indexing_threads=0, on_disk=False, payload_m=None), optimizer_config=OptimizersConfig(deleted_threshold=0.2, vacuum_min_vector_number=1000, default_segment_number=0, max_segment_size=None, memmap_threshold=None, indexing_threshold=20000, flush_interval_sec=5, max_optimization_threads=1), wal_config=WalConfig(wal_capacity_mb=32, wal_segments_ahead=0), quantization_config=None), payload_schema={})"
      ]
     },
     "execution_count": 2,
     "metadata": {},
     "output_type": "execute_result"
    }
   ],
   "source": [
    "client.get_collection(collection_name=\"business\")"
   ]
  },
  {
   "attachments": {},
   "cell_type": "markdown",
   "metadata": {},
   "source": [
    "## Populate collection"
   ]
  },
  {
   "cell_type": "code",
   "execution_count": 1,
   "metadata": {},
   "outputs": [],
   "source": [
    "import pandas as pd\n",
    "import dgl\n",
    "import torch"
   ]
  },
  {
   "cell_type": "code",
   "execution_count": 2,
   "metadata": {},
   "outputs": [],
   "source": [
    "# we can do it also as call on Neo4j\n",
    "business_ids = pd.read_csv('preprocessed/business_ids.csv')\n",
    "category_ids = pd.read_csv('preprocessed/category_ids.csv')\n",
    "category_df = pd.read_csv('neo4j_csvs/categories.csv')\n",
    "category_business_rels = pd.read_csv('neo4j_csvs/category_business_rels.csv')\n",
    "review_business_rels = pd.read_csv('neo4j_csvs/review_business_rels.csv')\n",
    "user_review_rels = pd.read_csv('neo4j_csvs/user_review_rels.csv')"
   ]
  },
  {
   "cell_type": "code",
   "execution_count": 5,
   "metadata": {},
   "outputs": [
    {
     "name": "stderr",
     "output_type": "stream",
     "text": [
      "/var/folders/r3/89932hws5rg2xwsqck66y26r0000gp/T/ipykernel_27056/2644901371.py:19: UserWarning: To copy construct from a tensor, it is recommended to use sourceTensor.clone().detach() or sourceTensor.clone().detach().requires_grad_(True), rather than torch.tensor(sourceTensor).\n",
      "  g.ndata['feat'] = {k: torch.tensor(v, dtype=torch.float32) for k, v in graph.ndata['feat'].items() }\n"
     ]
    }
   ],
   "source": [
    "graph = dgl.load_graphs('training_data/graph.dgl')\n",
    "graph = graph[0][0]\n",
    "edges = {}\n",
    "for canonical_etype in graph.canonical_etypes:\n",
    "    edges[canonical_etype] = graph.edges(etype=canonical_etype)\n",
    "\n",
    "# we add the reversed relations\n",
    "edges[('category', 'category_to_business', 'business')] = (graph.edges(etype='business_has_category')[1], graph.edges(etype='business_has_category')[0])\n",
    "edges[('business', 'business_to_review', 'review')] = (graph.edges(etype='review_to_business')[1], graph.edges(etype='review_to_business')[0])\n",
    "edges[('business', 'business_to_tip', 'tip')] = (graph.edges(etype='tip_to_business')[1], graph.edges(etype='tip_to_business')[0])\n",
    "edges[('review', 'review_to_user', 'user')] = (graph.edges(etype='user_to_review')[1], graph.edges(etype='user_to_review')[0])\n",
    "edges[('tip', 'tip_to_user', 'user')] = (graph.edges(etype='user_to_tip')[1], graph.edges(etype='user_to_tip')[0])\n",
    "\n",
    "num_nodes_dict = {} \n",
    "for ntype in graph.ntypes:\n",
    "    num_nodes_dict[ntype] = graph.nodes(ntype).shape[0]\n",
    "\n",
    "g = dgl.heterograph(edges, num_nodes_dict = num_nodes_dict)\n",
    "g.ndata['feat'] = {k: torch.tensor(v, dtype=torch.float32) for k, v in graph.ndata['feat'].items() }\n",
    "del graph"
   ]
  },
  {
   "cell_type": "code",
   "execution_count": 6,
   "metadata": {},
   "outputs": [
    {
     "data": {
      "text/html": [
       "<div>\n",
       "<style scoped>\n",
       "    .dataframe tbody tr th:only-of-type {\n",
       "        vertical-align: middle;\n",
       "    }\n",
       "\n",
       "    .dataframe tbody tr th {\n",
       "        vertical-align: top;\n",
       "    }\n",
       "\n",
       "    .dataframe thead th {\n",
       "        text-align: right;\n",
       "    }\n",
       "</style>\n",
       "<table border=\"1\" class=\"dataframe\">\n",
       "  <thead>\n",
       "    <tr style=\"text-align: right;\">\n",
       "      <th></th>\n",
       "      <th>business_id:ID</th>\n",
       "    </tr>\n",
       "  </thead>\n",
       "  <tbody>\n",
       "    <tr>\n",
       "      <th>0</th>\n",
       "      <td>cc3c6f99cdb7d899625e4e7b8d171a06</td>\n",
       "    </tr>\n",
       "    <tr>\n",
       "      <th>1</th>\n",
       "      <td>e1a902b3497f013225f4691a03c73a5a</td>\n",
       "    </tr>\n",
       "    <tr>\n",
       "      <th>2</th>\n",
       "      <td>63cee85ba2c884484d2104a806628c9d</td>\n",
       "    </tr>\n",
       "    <tr>\n",
       "      <th>3</th>\n",
       "      <td>03e04ca2a13470c101717367fdb707a7</td>\n",
       "    </tr>\n",
       "    <tr>\n",
       "      <th>4</th>\n",
       "      <td>ceba4d84e8014b380329fabe76308016</td>\n",
       "    </tr>\n",
       "    <tr>\n",
       "      <th>...</th>\n",
       "      <td>...</td>\n",
       "    </tr>\n",
       "    <tr>\n",
       "      <th>150238</th>\n",
       "      <td>1f1304e276347c5faee365f9abb00799</td>\n",
       "    </tr>\n",
       "    <tr>\n",
       "      <th>150239</th>\n",
       "      <td>ca111c03164a5425a9c5167b3a638895</td>\n",
       "    </tr>\n",
       "    <tr>\n",
       "      <th>150240</th>\n",
       "      <td>ff03cc577392e0ac794cdb4ebac46c3b</td>\n",
       "    </tr>\n",
       "    <tr>\n",
       "      <th>150241</th>\n",
       "      <td>abb853eceedb9401aba67a2897136eff</td>\n",
       "    </tr>\n",
       "    <tr>\n",
       "      <th>150242</th>\n",
       "      <td>d367ac4f22db972bce70ab8fe5a50e2b</td>\n",
       "    </tr>\n",
       "  </tbody>\n",
       "</table>\n",
       "<p>150243 rows × 1 columns</p>\n",
       "</div>"
      ],
      "text/plain": [
       "                          business_id:ID\n",
       "0       cc3c6f99cdb7d899625e4e7b8d171a06\n",
       "1       e1a902b3497f013225f4691a03c73a5a\n",
       "2       63cee85ba2c884484d2104a806628c9d\n",
       "3       03e04ca2a13470c101717367fdb707a7\n",
       "4       ceba4d84e8014b380329fabe76308016\n",
       "...                                  ...\n",
       "150238  1f1304e276347c5faee365f9abb00799\n",
       "150239  ca111c03164a5425a9c5167b3a638895\n",
       "150240  ff03cc577392e0ac794cdb4ebac46c3b\n",
       "150241  abb853eceedb9401aba67a2897136eff\n",
       "150242  d367ac4f22db972bce70ab8fe5a50e2b\n",
       "\n",
       "[150243 rows x 1 columns]"
      ]
     },
     "execution_count": 6,
     "metadata": {},
     "output_type": "execute_result"
    }
   ],
   "source": [
    "business_ids # ordered as business in graph dgl"
   ]
  },
  {
   "cell_type": "code",
   "execution_count": 7,
   "metadata": {},
   "outputs": [
    {
     "data": {
      "text/html": [
       "<div>\n",
       "<style scoped>\n",
       "    .dataframe tbody tr th:only-of-type {\n",
       "        vertical-align: middle;\n",
       "    }\n",
       "\n",
       "    .dataframe tbody tr th {\n",
       "        vertical-align: top;\n",
       "    }\n",
       "\n",
       "    .dataframe thead th {\n",
       "        text-align: right;\n",
       "    }\n",
       "</style>\n",
       "<table border=\"1\" class=\"dataframe\">\n",
       "  <thead>\n",
       "    <tr style=\"text-align: right;\">\n",
       "      <th></th>\n",
       "      <th>:START_ID</th>\n",
       "      <th>:END_ID</th>\n",
       "      <th>:TYPE</th>\n",
       "    </tr>\n",
       "  </thead>\n",
       "  <tbody>\n",
       "    <tr>\n",
       "      <th>0</th>\n",
       "      <td>cc3c6f99cdb7d899625e4e7b8d171a06</td>\n",
       "      <td>f77ccbdb203c19d3d52b12a85f33faf5</td>\n",
       "      <td>HAS_CATEGORY</td>\n",
       "    </tr>\n",
       "    <tr>\n",
       "      <th>1</th>\n",
       "      <td>cc3c6f99cdb7d899625e4e7b8d171a06</td>\n",
       "      <td>5dc2a02d462a6822a49f8419cdfcf29f</td>\n",
       "      <td>HAS_CATEGORY</td>\n",
       "    </tr>\n",
       "    <tr>\n",
       "      <th>2</th>\n",
       "      <td>cc3c6f99cdb7d899625e4e7b8d171a06</td>\n",
       "      <td>957bd1f3ec5f6e976c4e82257f55d1fb</td>\n",
       "      <td>HAS_CATEGORY</td>\n",
       "    </tr>\n",
       "    <tr>\n",
       "      <th>3</th>\n",
       "      <td>cc3c6f99cdb7d899625e4e7b8d171a06</td>\n",
       "      <td>5df806cd4d51dddbb591ad8df0fd4c42</td>\n",
       "      <td>HAS_CATEGORY</td>\n",
       "    </tr>\n",
       "    <tr>\n",
       "      <th>4</th>\n",
       "      <td>cc3c6f99cdb7d899625e4e7b8d171a06</td>\n",
       "      <td>6e3a69b2ebe159d183c7a7b83d0bf564</td>\n",
       "      <td>HAS_CATEGORY</td>\n",
       "    </tr>\n",
       "    <tr>\n",
       "      <th>...</th>\n",
       "      <td>...</td>\n",
       "      <td>...</td>\n",
       "      <td>...</td>\n",
       "    </tr>\n",
       "    <tr>\n",
       "      <th>668587</th>\n",
       "      <td>abb853eceedb9401aba67a2897136eff</td>\n",
       "      <td>af4b3609b5a35bb1d3796fac29e1c7b6</td>\n",
       "      <td>HAS_CATEGORY</td>\n",
       "    </tr>\n",
       "    <tr>\n",
       "      <th>668588</th>\n",
       "      <td>d367ac4f22db972bce70ab8fe5a50e2b</td>\n",
       "      <td>b11bd467d57c86f09435a96a212e89be</td>\n",
       "      <td>HAS_CATEGORY</td>\n",
       "    </tr>\n",
       "    <tr>\n",
       "      <th>668589</th>\n",
       "      <td>d367ac4f22db972bce70ab8fe5a50e2b</td>\n",
       "      <td>4075aad3e4473e2827bc6988e03a6e90</td>\n",
       "      <td>HAS_CATEGORY</td>\n",
       "    </tr>\n",
       "    <tr>\n",
       "      <th>668590</th>\n",
       "      <td>d367ac4f22db972bce70ab8fe5a50e2b</td>\n",
       "      <td>71b82d588f8ca5360dd8f79f4452f61a</td>\n",
       "      <td>HAS_CATEGORY</td>\n",
       "    </tr>\n",
       "    <tr>\n",
       "      <th>668591</th>\n",
       "      <td>d367ac4f22db972bce70ab8fe5a50e2b</td>\n",
       "      <td>ebde415c5c05abbbba38a5b1febaef02</td>\n",
       "      <td>HAS_CATEGORY</td>\n",
       "    </tr>\n",
       "  </tbody>\n",
       "</table>\n",
       "<p>668592 rows × 3 columns</p>\n",
       "</div>"
      ],
      "text/plain": [
       "                               :START_ID                           :END_ID  \\\n",
       "0       cc3c6f99cdb7d899625e4e7b8d171a06  f77ccbdb203c19d3d52b12a85f33faf5   \n",
       "1       cc3c6f99cdb7d899625e4e7b8d171a06  5dc2a02d462a6822a49f8419cdfcf29f   \n",
       "2       cc3c6f99cdb7d899625e4e7b8d171a06  957bd1f3ec5f6e976c4e82257f55d1fb   \n",
       "3       cc3c6f99cdb7d899625e4e7b8d171a06  5df806cd4d51dddbb591ad8df0fd4c42   \n",
       "4       cc3c6f99cdb7d899625e4e7b8d171a06  6e3a69b2ebe159d183c7a7b83d0bf564   \n",
       "...                                  ...                               ...   \n",
       "668587  abb853eceedb9401aba67a2897136eff  af4b3609b5a35bb1d3796fac29e1c7b6   \n",
       "668588  d367ac4f22db972bce70ab8fe5a50e2b  b11bd467d57c86f09435a96a212e89be   \n",
       "668589  d367ac4f22db972bce70ab8fe5a50e2b  4075aad3e4473e2827bc6988e03a6e90   \n",
       "668590  d367ac4f22db972bce70ab8fe5a50e2b  71b82d588f8ca5360dd8f79f4452f61a   \n",
       "668591  d367ac4f22db972bce70ab8fe5a50e2b  ebde415c5c05abbbba38a5b1febaef02   \n",
       "\n",
       "               :TYPE  \n",
       "0       HAS_CATEGORY  \n",
       "1       HAS_CATEGORY  \n",
       "2       HAS_CATEGORY  \n",
       "3       HAS_CATEGORY  \n",
       "4       HAS_CATEGORY  \n",
       "...              ...  \n",
       "668587  HAS_CATEGORY  \n",
       "668588  HAS_CATEGORY  \n",
       "668589  HAS_CATEGORY  \n",
       "668590  HAS_CATEGORY  \n",
       "668591  HAS_CATEGORY  \n",
       "\n",
       "[668592 rows x 3 columns]"
      ]
     },
     "execution_count": 7,
     "metadata": {},
     "output_type": "execute_result"
    }
   ],
   "source": [
    "category_business_rels # business -> category"
   ]
  },
  {
   "cell_type": "code",
   "execution_count": 8,
   "metadata": {},
   "outputs": [],
   "source": [
    "from utils import HGT\n",
    "node_dict = { ntype: g.ntypes.index(ntype) for ntype in g.ntypes }\n",
    "edge_dict = { canonical_etype: g.canonical_etypes.index(canonical_etype) for canonical_etype in g.canonical_etypes }\n",
    "feature_dim_dict = { ntype: g.ndata['feat'][ntype].shape[1] for ntype in g.ntypes }\n",
    "model = HGT(node_dict, edge_dict, feature_dim_dict, n_hid=256, n_out=128, n_layers=4, n_heads=8, use_norm=False)\n",
    "sampler = dgl.dataloading.NeighborSampler([24, 24, 24, 24])"
   ]
  },
  {
   "cell_type": "code",
   "execution_count": null,
   "metadata": {},
   "outputs": [],
   "source": [
    "model.load_state_dict(torch.load('models/best_model.pt')['model_state_dict'])"
   ]
  },
  {
   "cell_type": "code",
   "execution_count": 10,
   "metadata": {},
   "outputs": [
    {
     "name": "stderr",
     "output_type": "stream",
     "text": [
      "/Users/filippominutella/miniconda3/lib/python3.10/site-packages/dgl/dataloading/dataloader.py:869: DGLWarning: Dataloader CPU affinity opt is not enabled, consider switching it on (see enable_cpu_affinity() or CPU best practices for DGL [https://docs.dgl.ai/tutorials/cpu/cpu_best_practises.html])\n",
      "  dgl_warning(f'Dataloader CPU affinity opt is not enabled, consider switching it on '\n",
      "/Users/filippominutella/miniconda3/lib/python3.10/site-packages/dgl/backend/pytorch/tensor.py:445: UserWarning: TypedStorage is deprecated. It will be removed in the future and UntypedStorage will be the only storage class. This should only matter to you if you are using storages directly.  To access UntypedStorage directly, use tensor.untyped_storage() instead of tensor.storage()\n",
      "  assert input.numel() == input.storage().size(), (\n"
     ]
    }
   ],
   "source": [
    "from qdrant_client.http.models import PointStruct\n",
    "from qdrant_client.http.models import UpdateStatus\n",
    "\n",
    "batch_size = 64\n",
    "model.eval()\n",
    "def split(df, chunk_size):\n",
    "    for i in range(df.index.start, df.index.stop, chunk_size):\n",
    "        yield list(range(i, i + chunk_size if df.index.stop > i + chunk_size else df.index.stop)), df.loc[i:i + chunk_size - 1]\n",
    "\n",
    "for batch in split(business_ids, batch_size):\n",
    "    with torch.no_grad():\n",
    "        pos_batch_business_ids, batch_business_ids = batch\n",
    "\n",
    "        pos_block_business = [blocks for _, _, blocks in dgl.dataloading.DataLoader(\n",
    "            g, { 'business': pos_batch_business_ids }, sampler,\n",
    "            batch_size=len(pos_batch_business_ids), shuffle=False, drop_last=False, num_workers=1)][0]\n",
    "        pos_business_logits = model(pos_block_business, 'business')\n",
    "        batch_categories = batch_business_ids.merge(category_business_rels, left_on='business_id:ID', right_on=':START_ID')\n",
    "        businesses_its_categories = batch_categories.groupby(by=[\"business_id:ID\"], sort=False)[':END_ID'].apply(list).reset_index()\n",
    "        \n",
    "        batch_business_ids = batch_business_ids['business_id:ID'].to_list()\n",
    "        businesses_its_categories = businesses_its_categories[':END_ID'].to_list()\n",
    "        pos_business_logits = pos_business_logits.tolist()\n",
    "        points = []\n",
    "        for i in range(len(pos_batch_business_ids)):\n",
    "            points.append(\n",
    "                PointStruct(id=pos_batch_business_ids[i], vector=pos_business_logits[i], payload={'id': batch_business_ids[i], 'categories': businesses_its_categories[i]})\n",
    "            )\n",
    "        operation_info = client.upsert(\n",
    "            collection_name=\"business\",\n",
    "            wait=True,\n",
    "            points=points\n",
    "        )\n",
    "        assert operation_info.status == UpdateStatus.COMPLETED\n"
   ]
  },
  {
   "cell_type": "code",
   "execution_count": 14,
   "metadata": {},
   "outputs": [
    {
     "data": {
      "text/plain": [
       "SnapshotDescription(name='business-4626092216545756212-2023-04-03-15-12-56.snapshot', creation_time=None, size=67364864)"
      ]
     },
     "execution_count": 14,
     "metadata": {},
     "output_type": "execute_result"
    }
   ],
   "source": [
    "from qdrant_client import QdrantClient\n",
    "\n",
    "client = QdrantClient(\"localhost\", port=6333, timeout=100)\n",
    "\n",
    "client.create_snapshot(collection_name='business')"
   ]
  },
  {
   "cell_type": "code",
   "execution_count": 11,
   "metadata": {},
   "outputs": [
    {
     "data": {
      "text/plain": [
       "CollectionInfo(status=<CollectionStatus.GREEN: 'green'>, optimizer_status=<OptimizersStatusOneOf.OK: 'ok'>, vectors_count=64, indexed_vectors_count=0, points_count=64, segments_count=5, config=CollectionConfig(params=CollectionParams(vectors=VectorParams(size=128, distance=<Distance.DOT: 'Dot'>), shard_number=1, replication_factor=1, write_consistency_factor=1, on_disk_payload=True), hnsw_config=HnswConfig(m=16, ef_construct=100, full_scan_threshold=10000, max_indexing_threads=0, on_disk=False, payload_m=None), optimizer_config=OptimizersConfig(deleted_threshold=0.2, vacuum_min_vector_number=1000, default_segment_number=0, max_segment_size=None, memmap_threshold=None, indexing_threshold=20000, flush_interval_sec=5, max_optimization_threads=1), wal_config=WalConfig(wal_capacity_mb=32, wal_segments_ahead=0), quantization_config=None), payload_schema={})"
      ]
     },
     "execution_count": 11,
     "metadata": {},
     "output_type": "execute_result"
    }
   ],
   "source": [
    "client.get_collection(collection_name=\"business\")"
   ]
  },
  {
   "attachments": {},
   "cell_type": "markdown",
   "metadata": {},
   "source": [
    "## Recommendations"
   ]
  },
  {
   "cell_type": "code",
   "execution_count": 12,
   "metadata": {},
   "outputs": [],
   "source": [
    "user_ids = pd.read_csv('preprocessed/user_ids.csv')"
   ]
  },
  {
   "cell_type": "code",
   "execution_count": 13,
   "metadata": {},
   "outputs": [],
   "source": [
    "input_user_id = 'MGPQVLsODMm9ZtYQW-g_OA'\n",
    "input_category_id = '386c1f850fbd5f478fb4ef8a134c1740'"
   ]
  },
  {
   "cell_type": "code",
   "execution_count": 14,
   "metadata": {},
   "outputs": [],
   "source": [
    "pos_user_id = user_ids[user_ids['user_id:ID'] == input_user_id].index[0] # getting DGL id to create user embedding"
   ]
  },
  {
   "cell_type": "code",
   "execution_count": 15,
   "metadata": {},
   "outputs": [
    {
     "data": {
      "text/html": [
       "<div>\n",
       "<style scoped>\n",
       "    .dataframe tbody tr th:only-of-type {\n",
       "        vertical-align: middle;\n",
       "    }\n",
       "\n",
       "    .dataframe tbody tr th {\n",
       "        vertical-align: top;\n",
       "    }\n",
       "\n",
       "    .dataframe thead th {\n",
       "        text-align: right;\n",
       "    }\n",
       "</style>\n",
       "<table border=\"1\" class=\"dataframe\">\n",
       "  <thead>\n",
       "    <tr style=\"text-align: right;\">\n",
       "      <th></th>\n",
       "      <th>user_id:ID</th>\n",
       "    </tr>\n",
       "  </thead>\n",
       "  <tbody>\n",
       "    <tr>\n",
       "      <th>0</th>\n",
       "      <td>qVc8ODYU5SZjKXVBgXdI7w</td>\n",
       "    </tr>\n",
       "    <tr>\n",
       "      <th>1</th>\n",
       "      <td>j14WgRoU_-2ZE1aw1dXrJg</td>\n",
       "    </tr>\n",
       "    <tr>\n",
       "      <th>2</th>\n",
       "      <td>2WnXYQFK0hXEoTxPtV2zvg</td>\n",
       "    </tr>\n",
       "    <tr>\n",
       "      <th>3</th>\n",
       "      <td>SZDeASXq7o05mMNLshsdIA</td>\n",
       "    </tr>\n",
       "    <tr>\n",
       "      <th>4</th>\n",
       "      <td>hA5lMy-EnncsH4JoR-hFGQ</td>\n",
       "    </tr>\n",
       "    <tr>\n",
       "      <th>...</th>\n",
       "      <td>...</td>\n",
       "    </tr>\n",
       "    <tr>\n",
       "      <th>1987892</th>\n",
       "      <td>fB3jbHi3m0L2KgGOxBv6uw</td>\n",
       "    </tr>\n",
       "    <tr>\n",
       "      <th>1987893</th>\n",
       "      <td>68czcr4BxJyMQ9cJBm6C7Q</td>\n",
       "    </tr>\n",
       "    <tr>\n",
       "      <th>1987894</th>\n",
       "      <td>1x3KMskYxOuJCjRz70xOqQ</td>\n",
       "    </tr>\n",
       "    <tr>\n",
       "      <th>1987895</th>\n",
       "      <td>ulfGl4tdbrH05xKzh5lnog</td>\n",
       "    </tr>\n",
       "    <tr>\n",
       "      <th>1987896</th>\n",
       "      <td>wL5jPrLRVCK_Pmo4lM1zpA</td>\n",
       "    </tr>\n",
       "  </tbody>\n",
       "</table>\n",
       "<p>1987897 rows × 1 columns</p>\n",
       "</div>"
      ],
      "text/plain": [
       "                     user_id:ID\n",
       "0        qVc8ODYU5SZjKXVBgXdI7w\n",
       "1        j14WgRoU_-2ZE1aw1dXrJg\n",
       "2        2WnXYQFK0hXEoTxPtV2zvg\n",
       "3        SZDeASXq7o05mMNLshsdIA\n",
       "4        hA5lMy-EnncsH4JoR-hFGQ\n",
       "...                         ...\n",
       "1987892  fB3jbHi3m0L2KgGOxBv6uw\n",
       "1987893  68czcr4BxJyMQ9cJBm6C7Q\n",
       "1987894  1x3KMskYxOuJCjRz70xOqQ\n",
       "1987895  ulfGl4tdbrH05xKzh5lnog\n",
       "1987896  wL5jPrLRVCK_Pmo4lM1zpA\n",
       "\n",
       "[1987897 rows x 1 columns]"
      ]
     },
     "execution_count": 15,
     "metadata": {},
     "output_type": "execute_result"
    }
   ],
   "source": [
    "user_ids"
   ]
  },
  {
   "cell_type": "code",
   "execution_count": 16,
   "metadata": {},
   "outputs": [],
   "source": [
    "already_reviewed_businesses = user_ids[user_ids['user_id:ID'] == input_user_id] \\\n",
    "    .merge(user_review_rels, left_on='user_id:ID', right_on=':START_ID') \\\n",
    "    .merge(review_business_rels, left_on=':END_ID', right_on=':START_ID', suffixes=('rev', 'business'))[':END_IDbusiness'].to_list()"
   ]
  },
  {
   "cell_type": "code",
   "execution_count": 17,
   "metadata": {},
   "outputs": [
    {
     "data": {
      "text/plain": [
       "127"
      ]
     },
     "execution_count": 17,
     "metadata": {},
     "output_type": "execute_result"
    }
   ],
   "source": [
    "len(already_reviewed_businesses)"
   ]
  },
  {
   "cell_type": "code",
   "execution_count": 20,
   "metadata": {},
   "outputs": [],
   "source": [
    "pos_block_user = [blocks for _, _, blocks in dgl.dataloading.DataLoader(\n",
    "    g, {'user': [pos_user_id] }, sampler,\n",
    "    batch_size=batch_size, shuffle=False, drop_last=False, num_workers=1)][0]\n",
    "with torch.no_grad():\n",
    "    pos_user_logits = model(pos_block_user, 'user')"
   ]
  },
  {
   "cell_type": "code",
   "execution_count": 27,
   "metadata": {},
   "outputs": [],
   "source": [
    "from qdrant_client.http.models import Filter, FieldCondition, MatchValue, MatchAny\n",
    "\n",
    "\n",
    "search_result = client.search(\n",
    "    collection_name=\"business\",\n",
    "    query_vector=pos_user_logits.tolist()[0], \n",
    "    query_filter=Filter(\n",
    "        must=[\n",
    "            FieldCondition(\n",
    "                key=\"categories\",\n",
    "                match=MatchValue(value=input_category_id)\n",
    "            )\n",
    "        ],\n",
    "        must_not=[\n",
    "            FieldCondition(\n",
    "                key=\"id\", \n",
    "                match=MatchAny(any=already_reviewed_businesses)\n",
    "            ),\n",
    "        ],\n",
    "    ),\n",
    "    limit=100\n",
    ")"
   ]
  },
  {
   "cell_type": "code",
   "execution_count": null,
   "metadata": {},
   "outputs": [],
   "source": [
    "search_result"
   ]
  }
 ],
 "metadata": {
  "kernelspec": {
   "display_name": "base",
   "language": "python",
   "name": "python3"
  },
  "language_info": {
   "codemirror_mode": {
    "name": "ipython",
    "version": 3
   },
   "file_extension": ".py",
   "mimetype": "text/x-python",
   "name": "python",
   "nbconvert_exporter": "python",
   "pygments_lexer": "ipython3",
   "version": "3.10.8"
  },
  "orig_nbformat": 4
 },
 "nbformat": 4,
 "nbformat_minor": 2
}
