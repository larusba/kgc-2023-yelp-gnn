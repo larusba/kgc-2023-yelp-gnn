{
 "cells": [
  {
   "cell_type": "code",
   "execution_count": 2,
   "metadata": {},
   "outputs": [],
   "source": [
    "import pandas as pd\n",
    "import torch\n",
    "import dgl\n",
    "import pickle\n",
    "from utils import HGT\n",
    "import random"
   ]
  },
  {
   "cell_type": "code",
   "execution_count": 3,
   "metadata": {},
   "outputs": [],
   "source": [
    "graph = dgl.load_graphs('training_data/graph.dgl')\n",
    "graph = graph[0][0]\n",
    "\n",
    "with open('training_data/train.obj', 'rb') as fp:\n",
    "\ttrain = pickle.load(fp)\n",
    "\n",
    "with open('training_data/val.obj', 'rb') as fp:\n",
    "\tval = pickle.load(fp)\n",
    "\n",
    "with open('training_data/test.obj', 'rb') as fp:\n",
    "\ttest = pickle.load(fp)"
   ]
  },
  {
   "cell_type": "code",
   "execution_count": 4,
   "metadata": {},
   "outputs": [
    {
     "data": {
      "text/plain": [
       "150243"
      ]
     },
     "execution_count": 4,
     "metadata": {},
     "output_type": "execute_result"
    }
   ],
   "source": [
    "graph.nodes('business').shape[0]"
   ]
  },
  {
   "cell_type": "code",
   "execution_count": 5,
   "metadata": {},
   "outputs": [
    {
     "name": "stderr",
     "output_type": "stream",
     "text": [
      "/var/folders/r3/89932hws5rg2xwsqck66y26r0000gp/T/ipykernel_2214/4158148776.py:16: UserWarning: To copy construct from a tensor, it is recommended to use sourceTensor.clone().detach() or sourceTensor.clone().detach().requires_grad_(True), rather than torch.tensor(sourceTensor).\n",
      "  g.ndata['feat'] = {k: torch.tensor(v, dtype=torch.float32) for k, v in graph.ndata['feat'].items() }\n"
     ]
    }
   ],
   "source": [
    "edges = {}\n",
    "for canonical_etype in graph.canonical_etypes:\n",
    "    edges[canonical_etype] = graph.edges(etype=canonical_etype)\n",
    "\n",
    "edges[('category', 'category_to_business', 'business')] = (graph.edges(etype='business_has_category')[1], graph.edges(etype='business_has_category')[0])\n",
    "edges[('business', 'business_to_review', 'review')] = (graph.edges(etype='review_to_business')[1], graph.edges(etype='review_to_business')[0])\n",
    "edges[('business', 'business_to_tip', 'tip')] = (graph.edges(etype='tip_to_business')[1], graph.edges(etype='tip_to_business')[0])\n",
    "edges[('review', 'review_to_user', 'user')] = (graph.edges(etype='user_to_review')[1], graph.edges(etype='user_to_review')[0])\n",
    "edges[('tip', 'tip_to_user', 'user')] = (graph.edges(etype='user_to_tip')[1], graph.edges(etype='user_to_tip')[0])\n",
    "\n",
    "num_nodes_dict = {} \n",
    "for ntype in graph.ntypes:\n",
    "    num_nodes_dict[ntype] = graph.nodes(ntype).shape[0]\n",
    "\n",
    "g = dgl.heterograph(edges, num_nodes_dict = num_nodes_dict)\n",
    "g.ndata['feat'] = {k: torch.tensor(v, dtype=torch.float32) for k, v in graph.ndata['feat'].items() }\n",
    "del graph"
   ]
  },
  {
   "cell_type": "code",
   "execution_count": 6,
   "metadata": {},
   "outputs": [
    {
     "data": {
      "text/plain": [
       "<bound method DGLGraph.num_nodes of Graph(num_nodes={'business': 150243, 'category': 1311, 'review': 6339837, 'tip': 908878, 'user': 1987897},\n",
       "      num_edges={('business', 'business_has_category', 'category'): 668592, ('business', 'business_to_review', 'review'): 6339837, ('business', 'business_to_tip', 'tip'): 908878, ('category', 'category_to_business', 'business'): 668592, ('review', 'review_to_business', 'business'): 6339837, ('review', 'review_to_user', 'user'): 6339837, ('tip', 'tip_to_business', 'business'): 908878, ('tip', 'tip_to_user', 'user'): 908878, ('user', 'user_to_review', 'review'): 6339837, ('user', 'user_to_tip', 'tip'): 908878, ('user', 'user_to_user', 'user'): 437928},\n",
       "      metagraph=[('business', 'category', 'business_has_category'), ('business', 'review', 'business_to_review'), ('business', 'tip', 'business_to_tip'), ('category', 'business', 'category_to_business'), ('review', 'business', 'review_to_business'), ('review', 'user', 'review_to_user'), ('tip', 'business', 'tip_to_business'), ('tip', 'user', 'tip_to_user'), ('user', 'review', 'user_to_review'), ('user', 'tip', 'user_to_tip'), ('user', 'user', 'user_to_user')])>"
      ]
     },
     "execution_count": 6,
     "metadata": {},
     "output_type": "execute_result"
    }
   ],
   "source": [
    "g.num_nodes"
   ]
  },
  {
   "cell_type": "code",
   "execution_count": 7,
   "metadata": {},
   "outputs": [],
   "source": [
    "node_dict = { ntype: g.ntypes.index(ntype) for ntype in g.ntypes }\n",
    "edge_dict = { canonical_etype: g.canonical_etypes.index(canonical_etype) for canonical_etype in g.canonical_etypes }\n",
    "feature_dim_dict = { ntype: g.ndata['feat'][ntype].shape[1] for ntype in g.ntypes }"
   ]
  },
  {
   "cell_type": "code",
   "execution_count": 8,
   "metadata": {},
   "outputs": [
    {
     "data": {
      "text/plain": [
       "{'business': 0, 'category': 1, 'review': 2, 'tip': 3, 'user': 4}"
      ]
     },
     "execution_count": 8,
     "metadata": {},
     "output_type": "execute_result"
    }
   ],
   "source": [
    "node_dict"
   ]
  },
  {
   "cell_type": "code",
   "execution_count": 9,
   "metadata": {},
   "outputs": [],
   "source": [
    "model = HGT(node_dict, edge_dict, feature_dim_dict, n_hid=256, n_out=128, n_layers=4, n_heads=8, use_norm=False)\n",
    "opt = torch.optim.AdamW(model.parameters(), 1e-4)\n",
    "sampler = dgl.dataloading.NeighborSampler([24, 24, 24, 24])\n",
    "criterion = torch.nn.MarginRankingLoss(margin=1)\n",
    "# dgl.dataloading.NeighborSampler([\n",
    "#     {('user', 'follows', 'user'): 5,\n",
    "#      ('user', 'plays', 'game'): 4,\n",
    "#      ('game', 'played-by', 'user'): 3}] * 3)"
   ]
  },
  {
   "cell_type": "code",
   "execution_count": 10,
   "metadata": {},
   "outputs": [],
   "source": [
    "train_pos_ids = list(range(train['pos'][0].shape[0]))\n",
    "train_neg_ids = list(range(train['neg'][0].shape[0]))"
   ]
  },
  {
   "cell_type": "code",
   "execution_count": 11,
   "metadata": {},
   "outputs": [],
   "source": [
    "val_pos_ids = list(range(val['pos'][0].shape[0]))\n",
    "val_neg_ids = list(range(val['neg'][0].shape[0]))"
   ]
  },
  {
   "cell_type": "code",
   "execution_count": 12,
   "metadata": {},
   "outputs": [
    {
     "data": {
      "text/plain": [
       "135108"
      ]
     },
     "execution_count": 12,
     "metadata": {},
     "output_type": "execute_result"
    }
   ],
   "source": [
    "len(train_neg_ids)"
   ]
  },
  {
   "cell_type": "code",
   "execution_count": 13,
   "metadata": {},
   "outputs": [
    {
     "data": {
      "text/plain": [
       "torch.float32"
      ]
     },
     "execution_count": 13,
     "metadata": {},
     "output_type": "execute_result"
    }
   ],
   "source": [
    "g.ndata['feat']['category'].dtype"
   ]
  },
  {
   "cell_type": "code",
   "execution_count": 14,
   "metadata": {},
   "outputs": [],
   "source": [
    "def predict(g, model, pos_ids, neg_ids, relation_tuple, sampler, batch_size):\n",
    "    pos_users = torch.index_select(relation_tuple['pos'][0], 0, torch.tensor(pos_ids))\n",
    "    pos_users_unique, pos_users_inverse = torch.unique(pos_users, return_inverse=True)\n",
    "    pos_block_user = [blocks for _, _, blocks in dgl.dataloading.DataLoader(\n",
    "        g, {'user': pos_users_unique}, sampler,\n",
    "        batch_size=batch_size, shuffle=False, drop_last=False, num_workers=1)][0]\n",
    "\n",
    "    pos_business = torch.index_select(relation_tuple['pos'][1], 0, torch.tensor(pos_ids))\n",
    "    pos_business_unique, pos_business_inverse = torch.unique(pos_business, return_inverse=True)\n",
    "    pos_block_business = [blocks for _, _, blocks in dgl.dataloading.DataLoader(\n",
    "        g, {'business': pos_business_unique }, sampler,\n",
    "        batch_size=batch_size, shuffle=False, drop_last=False, num_workers=1)][0]\n",
    "    \n",
    "    neg_users = torch.index_select(relation_tuple['neg'][0], 0, torch.tensor(neg_ids))\n",
    "    neg_users_unique, neg_users_inverse = torch.unique(neg_users, return_inverse=True)\n",
    "    neg_block_user = [blocks for _, _, blocks in dgl.dataloading.DataLoader(\n",
    "        g, {'user': neg_users_unique }, sampler,\n",
    "        batch_size=batch_size, shuffle=False, drop_last=False, num_workers=1)][0]\n",
    "    \n",
    "    neg_business = torch.index_select(relation_tuple['neg'][1], 0, torch.tensor(neg_ids))\n",
    "    neg_business_unique, neg_business_inverse = torch.unique(neg_business, return_inverse=True)\n",
    "    neg_block_business = [blocks for _, _, blocks in dgl.dataloading.DataLoader(\n",
    "        g, {'business': neg_business_unique }, sampler,\n",
    "        batch_size=batch_size, shuffle=False, drop_last=False, num_workers=1)][0]\n",
    "\n",
    "    pos_user_logits = torch.index_select(model(pos_block_user, 'user'), 0, pos_users_inverse)\n",
    "    pos_business_logits = torch.index_select(model(pos_block_business, 'business'), 0, pos_business_inverse)\n",
    "    neg_user_logits = torch.index_select(model(neg_block_user, 'user'), 0, neg_users_inverse)\n",
    "    neg_business_logits = torch.index_select(model(neg_block_business, 'business'), 0, neg_business_inverse)\n",
    "    return pos_user_logits, pos_business_logits, neg_user_logits, neg_business_logits"
   ]
  },
  {
   "cell_type": "code",
   "execution_count": 15,
   "metadata": {},
   "outputs": [],
   "source": [
    "from torch.utils.tensorboard import SummaryWriter\n",
    "writer = SummaryWriter()"
   ]
  },
  {
   "cell_type": "code",
   "execution_count": 18,
   "metadata": {},
   "outputs": [],
   "source": [
    "def split(list_a, chunk_size):\n",
    "    for i in range(0, len(list_a), chunk_size):\n",
    "        yield list_a[i:i + chunk_size]\n",
    "\n",
    "batch_size = 64\n",
    "total_step_train = 0\n",
    "best_val_loss = 100\n",
    "for epoch in range(20):\n",
    "    model.train()\n",
    "    random.shuffle(train_pos_ids)\n",
    "    random.shuffle(train_neg_ids)\n",
    "    # training\n",
    "    losses = []\n",
    "    for batch in split(list(zip(train_pos_ids, train_neg_ids)), batch_size):\n",
    "        opt.zero_grad()\n",
    "        pos_ids, neg_ids = list(zip(*batch))\n",
    "        pos_user_logits, pos_business_logits, neg_user_logits, neg_business_logits = predict(g, model, pos_ids, neg_ids, train, sampler, batch_size)\n",
    "        pos_score = torch.bmm(pos_user_logits.view(batch_size, 1, model.n_out), pos_business_logits.view(batch_size, model.n_out, 1)).squeeze()\n",
    "        neg_score = torch.bmm(neg_user_logits.view(batch_size, 1, model.n_out), neg_business_logits.view(batch_size, model.n_out, 1)).squeeze()\n",
    "        loss = criterion(pos_score, neg_score, torch.ones(batch_size))\n",
    "        loss.backward()\n",
    "        opt.step()\n",
    "        loss_value = loss.item()\n",
    "        losses.append(loss_value)\n",
    "        writer.add_scalar(\"Loss/train/batch\", loss_value, total_step_train)\n",
    "        total_step_train += 1\n",
    "        break\n",
    "    writer.add_scalar(\"Loss/train\", sum(losses) / len(losses), epoch)\n",
    "    # validation\n",
    "    model.eval()\n",
    "    losses = []\n",
    "    for batch in split(list(zip(val_pos_ids, val_neg_ids)), batch_size):\n",
    "        pos_ids, neg_ids = list(zip(*batch))\n",
    "        pos_user_logits, pos_business_logits, neg_user_logits, neg_business_logits = predict(g, model, pos_ids, neg_ids, val, sampler, batch_size)\n",
    "        pos_score = torch.bmm(pos_user_logits.view(batch_size, 1, model.n_out), pos_business_logits.view(batch_size, model.n_out, 1)).squeeze()\n",
    "        neg_score = torch.bmm(neg_user_logits.view(batch_size, 1, model.n_out), neg_business_logits.view(batch_size, model.n_out, 1)).squeeze()\n",
    "        loss_value = criterion(pos_score, neg_score, torch.ones(batch_size)).item()\n",
    "        losses.append(loss_value)\n",
    "    val_loss = (sum(losses) / len(losses))\n",
    "    if val_loss < best_val_loss:\n",
    "        best_val_loss = val_loss\n",
    "        torch.save({\n",
    "            'model_state_dict': model.state_dict(),\n",
    "            'optimizer_state_dict': opt.state_dict(),\n",
    "        }, 'models/best_model.pt')\n",
    "\n",
    "    writer.add_scalar(\"Val/train\", val_loss, epoch)\n",
    "    "
   ]
  },
  {
   "attachments": {},
   "cell_type": "markdown",
   "metadata": {},
   "source": [
    "## experiment"
   ]
  },
  {
   "cell_type": "code",
   "execution_count": null,
   "metadata": {},
   "outputs": [],
   "source": [
    "user_pos_id = train['pos'][0][0]"
   ]
  },
  {
   "cell_type": "code",
   "execution_count": null,
   "metadata": {},
   "outputs": [],
   "source": [
    "pos_business = train['pos'][1][train['pos'][0] == train['pos'][0][0]]\n",
    "neg_business = train['neg'][1][train['neg'][0] == train['pos'][0][0]]"
   ]
  },
  {
   "cell_type": "code",
   "execution_count": null,
   "metadata": {},
   "outputs": [
    {
     "data": {
      "text/plain": [
       "tensor([111108,  80217,  25553,  73239,  66461,  23450,  20934, 120272,  86879,\n",
       "         38967,  84152,  13612])"
      ]
     },
     "execution_count": 32,
     "metadata": {},
     "output_type": "execute_result"
    }
   ],
   "source": [
    "pos_business"
   ]
  },
  {
   "cell_type": "code",
   "execution_count": null,
   "metadata": {},
   "outputs": [
    {
     "data": {
      "text/plain": [
       "tensor([120919])"
      ]
     },
     "execution_count": 31,
     "metadata": {},
     "output_type": "execute_result"
    }
   ],
   "source": [
    "neg_business"
   ]
  },
  {
   "cell_type": "code",
   "execution_count": null,
   "metadata": {},
   "outputs": [],
   "source": [
    "user_df = pd.read_csv('preprocessed/user_ids.csv')\n",
    "business_df = pd.read_csv('preprocessed/business_ids.csv')"
   ]
  },
  {
   "cell_type": "code",
   "execution_count": null,
   "metadata": {},
   "outputs": [
    {
     "data": {
      "text/plain": [
       "user_id:ID    U438yUH5aBVntI_CbVt8jg\n",
       "Name: 207300, dtype: object"
      ]
     },
     "execution_count": 46,
     "metadata": {},
     "output_type": "execute_result"
    }
   ],
   "source": [
    "user_df.loc[user_pos_id.tolist()]"
   ]
  },
  {
   "cell_type": "code",
   "execution_count": null,
   "metadata": {},
   "outputs": [
    {
     "data": {
      "text/html": [
       "<div>\n",
       "<style scoped>\n",
       "    .dataframe tbody tr th:only-of-type {\n",
       "        vertical-align: middle;\n",
       "    }\n",
       "\n",
       "    .dataframe tbody tr th {\n",
       "        vertical-align: top;\n",
       "    }\n",
       "\n",
       "    .dataframe thead th {\n",
       "        text-align: right;\n",
       "    }\n",
       "</style>\n",
       "<table border=\"1\" class=\"dataframe\">\n",
       "  <thead>\n",
       "    <tr style=\"text-align: right;\">\n",
       "      <th></th>\n",
       "      <th>business_id:ID</th>\n",
       "    </tr>\n",
       "  </thead>\n",
       "  <tbody>\n",
       "    <tr>\n",
       "      <th>111108</th>\n",
       "      <td>a0d09197752174e42a05ff2cf445fa91</td>\n",
       "    </tr>\n",
       "    <tr>\n",
       "      <th>80217</th>\n",
       "      <td>064a4a8a97aa17167a9427a19aca98ef</td>\n",
       "    </tr>\n",
       "    <tr>\n",
       "      <th>25553</th>\n",
       "      <td>33d2e8ccd5b8f4d14ad8e83b11444bc0</td>\n",
       "    </tr>\n",
       "    <tr>\n",
       "      <th>73239</th>\n",
       "      <td>3f2388115a0b7cc98b242191fdad7bf4</td>\n",
       "    </tr>\n",
       "    <tr>\n",
       "      <th>66461</th>\n",
       "      <td>8e64483dbe1cb3d0662df91b83867345</td>\n",
       "    </tr>\n",
       "    <tr>\n",
       "      <th>23450</th>\n",
       "      <td>1fd668fc67cb62812e523ab153b411ce</td>\n",
       "    </tr>\n",
       "    <tr>\n",
       "      <th>20934</th>\n",
       "      <td>f30c7b0034d553e0da7e07811841868b</td>\n",
       "    </tr>\n",
       "    <tr>\n",
       "      <th>120272</th>\n",
       "      <td>3d6954a8431403d9e6e8b293a943d6d2</td>\n",
       "    </tr>\n",
       "    <tr>\n",
       "      <th>86879</th>\n",
       "      <td>15aaec95654f4ba868dfb2547ec72193</td>\n",
       "    </tr>\n",
       "    <tr>\n",
       "      <th>38967</th>\n",
       "      <td>e1756e58d54f74ce2392ec5fe40d0eb5</td>\n",
       "    </tr>\n",
       "    <tr>\n",
       "      <th>84152</th>\n",
       "      <td>dd113aed595c4b7a50981891885def1a</td>\n",
       "    </tr>\n",
       "    <tr>\n",
       "      <th>13612</th>\n",
       "      <td>05e514dcebb721d1b064977dc3c71489</td>\n",
       "    </tr>\n",
       "  </tbody>\n",
       "</table>\n",
       "</div>"
      ],
      "text/plain": [
       "                          business_id:ID\n",
       "111108  a0d09197752174e42a05ff2cf445fa91\n",
       "80217   064a4a8a97aa17167a9427a19aca98ef\n",
       "25553   33d2e8ccd5b8f4d14ad8e83b11444bc0\n",
       "73239   3f2388115a0b7cc98b242191fdad7bf4\n",
       "66461   8e64483dbe1cb3d0662df91b83867345\n",
       "23450   1fd668fc67cb62812e523ab153b411ce\n",
       "20934   f30c7b0034d553e0da7e07811841868b\n",
       "120272  3d6954a8431403d9e6e8b293a943d6d2\n",
       "86879   15aaec95654f4ba868dfb2547ec72193\n",
       "38967   e1756e58d54f74ce2392ec5fe40d0eb5\n",
       "84152   dd113aed595c4b7a50981891885def1a\n",
       "13612   05e514dcebb721d1b064977dc3c71489"
      ]
     },
     "execution_count": 48,
     "metadata": {},
     "output_type": "execute_result"
    }
   ],
   "source": [
    "business_df.loc[pos_business.tolist()]"
   ]
  },
  {
   "cell_type": "code",
   "execution_count": null,
   "metadata": {},
   "outputs": [
    {
     "data": {
      "text/html": [
       "<div>\n",
       "<style scoped>\n",
       "    .dataframe tbody tr th:only-of-type {\n",
       "        vertical-align: middle;\n",
       "    }\n",
       "\n",
       "    .dataframe tbody tr th {\n",
       "        vertical-align: top;\n",
       "    }\n",
       "\n",
       "    .dataframe thead th {\n",
       "        text-align: right;\n",
       "    }\n",
       "</style>\n",
       "<table border=\"1\" class=\"dataframe\">\n",
       "  <thead>\n",
       "    <tr style=\"text-align: right;\">\n",
       "      <th></th>\n",
       "      <th>business_id:ID</th>\n",
       "    </tr>\n",
       "  </thead>\n",
       "  <tbody>\n",
       "    <tr>\n",
       "      <th>120919</th>\n",
       "      <td>82ad544c4332ea410b5018b6b69b5a2d</td>\n",
       "    </tr>\n",
       "  </tbody>\n",
       "</table>\n",
       "</div>"
      ],
      "text/plain": [
       "                          business_id:ID\n",
       "120919  82ad544c4332ea410b5018b6b69b5a2d"
      ]
     },
     "execution_count": 49,
     "metadata": {},
     "output_type": "execute_result"
    }
   ],
   "source": [
    "business_df.loc[neg_business.tolist()]"
   ]
  },
  {
   "cell_type": "code",
   "execution_count": null,
   "metadata": {},
   "outputs": [
    {
     "name": "stderr",
     "output_type": "stream",
     "text": [
      "/Users/filippominutella/miniconda3/lib/python3.10/site-packages/dgl/dataloading/dataloader.py:869: DGLWarning: Dataloader CPU affinity opt is not enabled, consider switching it on (see enable_cpu_affinity() or CPU best practices for DGL [https://docs.dgl.ai/tutorials/cpu/cpu_best_practises.html])\n",
      "  dgl_warning(f'Dataloader CPU affinity opt is not enabled, consider switching it on '\n",
      "/Users/filippominutella/miniconda3/lib/python3.10/site-packages/dgl/backend/pytorch/tensor.py:445: UserWarning: TypedStorage is deprecated. It will be removed in the future and UntypedStorage will be the only storage class. This should only matter to you if you are using storages directly.  To access UntypedStorage directly, use tensor.untyped_storage() instead of tensor.storage()\n",
      "  assert input.numel() == input.storage().size(), (\n"
     ]
    }
   ],
   "source": [
    "model.eval()\n",
    "block_user = [blocks for _, _, blocks in dgl.dataloading.DataLoader(\n",
    "    g, {'user': [user_pos_id] }, sampler,\n",
    "    batch_size=batch_size, shuffle=False, drop_last=False, num_workers=1)][0]\n",
    "\n",
    "pos_block_business = [blocks for _, _, blocks in dgl.dataloading.DataLoader(\n",
    "    g, {'business': pos_business }, sampler,\n",
    "    batch_size=batch_size, shuffle=False, drop_last=False, num_workers=1)][0]\n",
    "\n",
    "neg_block_business = [blocks for _, _, blocks in dgl.dataloading.DataLoader(\n",
    "    g, {'business': neg_business }, sampler,\n",
    "    batch_size=batch_size, shuffle=False, drop_last=False, num_workers=1)][0]\n",
    "\n",
    "user = model(block_user, 'user')[0]\n",
    "p_business = model(pos_block_business, 'business')\n",
    "n_business = model(neg_block_business, 'business')\n"
   ]
  },
  {
   "cell_type": "code",
   "execution_count": null,
   "metadata": {},
   "outputs": [
    {
     "data": {
      "text/plain": [
       "tensor([0.5728, 0.5628, 0.5803, 0.5380, 0.5070, 0.5362, 0.5807, 0.5817, 0.5664,\n",
       "        0.5480, 0.5818, 0.5637], grad_fn=<SqueezeBackward0>)"
      ]
     },
     "execution_count": 41,
     "metadata": {},
     "output_type": "execute_result"
    }
   ],
   "source": [
    "torch.bmm(user.repeat(p_business.shape[0], 1).view(p_business.shape[0], 1, model.n_out), p_business.view(p_business.shape[0], model.n_out, 1)).squeeze()"
   ]
  },
  {
   "cell_type": "code",
   "execution_count": null,
   "metadata": {},
   "outputs": [
    {
     "data": {
      "text/plain": [
       "tensor(0.5402, grad_fn=<SqueezeBackward0>)"
      ]
     },
     "execution_count": 42,
     "metadata": {},
     "output_type": "execute_result"
    }
   ],
   "source": [
    "torch.bmm(user.repeat(n_business.shape[0], 1).view(n_business.shape[0], 1, model.n_out), n_business.view(n_business.shape[0], model.n_out, 1)).squeeze()"
   ]
  }
 ],
 "metadata": {
  "kernelspec": {
   "display_name": "base",
   "language": "python",
   "name": "python3"
  },
  "language_info": {
   "codemirror_mode": {
    "name": "ipython",
    "version": 3
   },
   "file_extension": ".py",
   "mimetype": "text/x-python",
   "name": "python",
   "nbconvert_exporter": "python",
   "pygments_lexer": "ipython3",
   "version": "3.10.8"
  },
  "orig_nbformat": 4
 },
 "nbformat": 4,
 "nbformat_minor": 2
}
