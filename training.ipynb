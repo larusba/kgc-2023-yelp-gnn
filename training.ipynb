{
 "cells": [
  {
   "cell_type": "code",
   "execution_count": 1,
   "metadata": {},
   "outputs": [],
   "source": [
    "import pandas as pd\n",
    "import torch\n",
    "import dgl\n",
    "import pickle\n",
    "from utils import HGT\n",
    "import random"
   ]
  },
  {
   "cell_type": "code",
   "execution_count": 2,
   "metadata": {},
   "outputs": [],
   "source": [
    "graph = dgl.load_graphs('training_data/graph.dgl')\n",
    "graph = graph[0][0]\n",
    "\n",
    "with open('training_data/train.obj', 'rb') as fp:\n",
    "\ttrain = pickle.load(fp)\n",
    "\n",
    "with open('training_data/val.obj', 'rb') as fp:\n",
    "\tval = pickle.load(fp)\n",
    "\n",
    "with open('training_data/test.obj', 'rb') as fp:\n",
    "\ttest = pickle.load(fp)"
   ]
  },
  {
   "cell_type": "code",
   "execution_count": 3,
   "metadata": {},
   "outputs": [
    {
     "data": {
      "text/plain": [
       "150243"
      ]
     },
     "execution_count": 3,
     "metadata": {},
     "output_type": "execute_result"
    }
   ],
   "source": [
    "graph.nodes('business').shape[0]"
   ]
  },
  {
   "cell_type": "code",
   "execution_count": 4,
   "metadata": {},
   "outputs": [
    {
     "name": "stderr",
     "output_type": "stream",
     "text": [
      "/var/folders/r3/89932hws5rg2xwsqck66y26r0000gp/T/ipykernel_10585/4158148776.py:16: UserWarning: To copy construct from a tensor, it is recommended to use sourceTensor.clone().detach() or sourceTensor.clone().detach().requires_grad_(True), rather than torch.tensor(sourceTensor).\n",
      "  g.ndata['feat'] = {k: torch.tensor(v, dtype=torch.float32) for k, v in graph.ndata['feat'].items() }\n"
     ]
    }
   ],
   "source": [
    "edges = {}\n",
    "for canonical_etype in graph.canonical_etypes:\n",
    "    edges[canonical_etype] = graph.edges(etype=canonical_etype)\n",
    "\n",
    "edges[('category', 'category_to_business', 'business')] = (graph.edges(etype='business_has_category')[1], graph.edges(etype='business_has_category')[0])\n",
    "edges[('business', 'business_to_review', 'review')] = (graph.edges(etype='review_to_business')[1], graph.edges(etype='review_to_business')[0])\n",
    "edges[('business', 'business_to_tip', 'tip')] = (graph.edges(etype='tip_to_business')[1], graph.edges(etype='tip_to_business')[0])\n",
    "edges[('review', 'review_to_user', 'user')] = (graph.edges(etype='user_to_review')[1], graph.edges(etype='user_to_review')[0])\n",
    "edges[('tip', 'tip_to_user', 'user')] = (graph.edges(etype='user_to_tip')[1], graph.edges(etype='user_to_tip')[0])\n",
    "\n",
    "num_nodes_dict = {} \n",
    "for ntype in graph.ntypes:\n",
    "    num_nodes_dict[ntype] = graph.nodes(ntype).shape[0]\n",
    "\n",
    "g = dgl.heterograph(edges, num_nodes_dict = num_nodes_dict)\n",
    "g.ndata['feat'] = {k: torch.tensor(v, dtype=torch.float32) for k, v in graph.ndata['feat'].items() }\n",
    "del graph"
   ]
  },
  {
   "cell_type": "code",
   "execution_count": 5,
   "metadata": {},
   "outputs": [
    {
     "data": {
      "text/plain": [
       "<bound method DGLGraph.num_nodes of Graph(num_nodes={'business': 150243, 'category': 1311, 'review': 6339837, 'tip': 908878, 'user': 1987897},\n",
       "      num_edges={('business', 'business_has_category', 'category'): 668592, ('business', 'business_to_review', 'review'): 6339837, ('business', 'business_to_tip', 'tip'): 908878, ('category', 'category_to_business', 'business'): 668592, ('review', 'review_to_business', 'business'): 6339837, ('review', 'review_to_user', 'user'): 6339837, ('tip', 'tip_to_business', 'business'): 908878, ('tip', 'tip_to_user', 'user'): 908878, ('user', 'user_to_review', 'review'): 6339837, ('user', 'user_to_tip', 'tip'): 908878, ('user', 'user_to_user', 'user'): 437928},\n",
       "      metagraph=[('business', 'category', 'business_has_category'), ('business', 'review', 'business_to_review'), ('business', 'tip', 'business_to_tip'), ('category', 'business', 'category_to_business'), ('review', 'business', 'review_to_business'), ('review', 'user', 'review_to_user'), ('tip', 'business', 'tip_to_business'), ('tip', 'user', 'tip_to_user'), ('user', 'review', 'user_to_review'), ('user', 'tip', 'user_to_tip'), ('user', 'user', 'user_to_user')])>"
      ]
     },
     "execution_count": 5,
     "metadata": {},
     "output_type": "execute_result"
    }
   ],
   "source": [
    "g.num_nodes"
   ]
  },
  {
   "cell_type": "code",
   "execution_count": 6,
   "metadata": {},
   "outputs": [],
   "source": [
    "node_dict = { ntype: g.ntypes.index(ntype) for ntype in g.ntypes }\n",
    "edge_dict = { canonical_etype: g.canonical_etypes.index(canonical_etype) for canonical_etype in g.canonical_etypes }\n",
    "feature_dim_dict = { ntype: g.ndata['feat'][ntype].shape[1] for ntype in g.ntypes }"
   ]
  },
  {
   "cell_type": "code",
   "execution_count": 7,
   "metadata": {},
   "outputs": [
    {
     "data": {
      "text/plain": [
       "{'business': 0, 'category': 1, 'review': 2, 'tip': 3, 'user': 4}"
      ]
     },
     "execution_count": 7,
     "metadata": {},
     "output_type": "execute_result"
    }
   ],
   "source": [
    "node_dict"
   ]
  },
  {
   "cell_type": "code",
   "execution_count": 8,
   "metadata": {},
   "outputs": [
    {
     "name": "stdout",
     "output_type": "stream",
     "text": [
      "business\n",
      "category\n",
      "review\n",
      "tip\n",
      "user\n"
     ]
    }
   ],
   "source": [
    "model = HGT(node_dict, edge_dict, feature_dim_dict, n_hid=256, n_out=128, n_layers=4, n_heads=8, use_norm=True)\n",
    "opt = torch.optim.AdamW(model.parameters(), 1e-4)\n",
    "sampler = dgl.dataloading.NeighborSampler([100, 100, 100, 100])\n",
    "# dgl.dataloading.NeighborSampler([\n",
    "#     {('user', 'follows', 'user'): 5,\n",
    "#      ('user', 'plays', 'game'): 4,\n",
    "#      ('game', 'played-by', 'user'): 3}] * 3)"
   ]
  },
  {
   "cell_type": "code",
   "execution_count": 9,
   "metadata": {},
   "outputs": [],
   "source": [
    "train_pos_ids = list(range(train['pos'][0].shape[0]))\n",
    "train_neg_ids = list(range(train['neg'][0].shape[0]))"
   ]
  },
  {
   "cell_type": "code",
   "execution_count": 10,
   "metadata": {},
   "outputs": [
    {
     "data": {
      "text/plain": [
       "135108"
      ]
     },
     "execution_count": 10,
     "metadata": {},
     "output_type": "execute_result"
    }
   ],
   "source": [
    "len(train_neg_ids)"
   ]
  },
  {
   "cell_type": "code",
   "execution_count": 11,
   "metadata": {},
   "outputs": [
    {
     "data": {
      "text/plain": [
       "torch.float32"
      ]
     },
     "execution_count": 11,
     "metadata": {},
     "output_type": "execute_result"
    }
   ],
   "source": [
    "g.ndata['feat']['category'].dtype"
   ]
  },
  {
   "cell_type": "code",
   "execution_count": 12,
   "metadata": {},
   "outputs": [
    {
     "name": "stderr",
     "output_type": "stream",
     "text": [
      "/Users/filippominutella/miniconda3/lib/python3.10/site-packages/dgl/dataloading/dataloader.py:869: DGLWarning: Dataloader CPU affinity opt is not enabled, consider switching it on (see enable_cpu_affinity() or CPU best practices for DGL [https://docs.dgl.ai/tutorials/cpu/cpu_best_practises.html])\n",
      "  dgl_warning(f'Dataloader CPU affinity opt is not enabled, consider switching it on '\n"
     ]
    },
    {
     "name": "stdout",
     "output_type": "stream",
     "text": [
      "[Block(num_src_nodes={'business': 33949, 'category': 499, 'review': 128416, 'tip': 40386, 'user': 60501},\n",
      "      num_dst_nodes={'business': 1270, 'category': 393, 'review': 63756, 'tip': 23681, 'user': 394},\n",
      "      num_edges={('business', 'business_has_category', 'category'): 36612, ('business', 'business_to_review', 'review'): 63756, ('business', 'business_to_tip', 'tip'): 23681, ('category', 'category_to_business', 'business'): 6542, ('review', 'review_to_business', 'business'): 96168, ('review', 'review_to_user', 'user'): 6307, ('tip', 'tip_to_business', 'business'): 37142, ('tip', 'tip_to_user', 'user'): 509, ('user', 'user_to_review', 'review'): 63756, ('user', 'user_to_tip', 'tip'): 23681, ('user', 'user_to_user', 'user'): 593},\n",
      "      metagraph=[('business', 'category', 'business_has_category'), ('business', 'review', 'business_to_review'), ('business', 'tip', 'business_to_tip'), ('category', 'business', 'category_to_business'), ('review', 'business', 'review_to_business'), ('review', 'user', 'review_to_user'), ('tip', 'business', 'tip_to_business'), ('tip', 'user', 'tip_to_user'), ('user', 'review', 'user_to_review'), ('user', 'tip', 'user_to_tip'), ('user', 'user', 'user_to_user')]), Block(num_src_nodes={'business': 1270, 'category': 393, 'review': 63756, 'tip': 23681, 'user': 394},\n",
      "      num_dst_nodes={'business': 754, 'category': 0, 'review': 1219, 'tip': 250, 'user': 303},\n",
      "      num_edges={('business', 'business_has_category', 'category'): 0, ('business', 'business_to_review', 'review'): 1219, ('business', 'business_to_tip', 'tip'): 250, ('category', 'category_to_business', 'business'): 3739, ('review', 'review_to_business', 'business'): 59201, ('review', 'review_to_user', 'user'): 4871, ('tip', 'tip_to_business', 'business'): 23345, ('tip', 'tip_to_user', 'user'): 448, ('user', 'user_to_review', 'review'): 1219, ('user', 'user_to_tip', 'tip'): 250, ('user', 'user_to_user', 'user'): 495},\n",
      "      metagraph=[('business', 'category', 'business_has_category'), ('business', 'review', 'business_to_review'), ('business', 'tip', 'business_to_tip'), ('category', 'business', 'category_to_business'), ('review', 'business', 'review_to_business'), ('review', 'user', 'review_to_user'), ('tip', 'business', 'tip_to_business'), ('tip', 'user', 'tip_to_user'), ('user', 'review', 'user_to_review'), ('user', 'tip', 'user_to_tip'), ('user', 'user', 'user_to_user')]), Block(num_src_nodes={'business': 754, 'category': 0, 'review': 1219, 'tip': 250, 'user': 303},\n",
      "      num_dst_nodes={'business': 0, 'category': 0, 'review': 745, 'tip': 120, 'user': 90},\n",
      "      num_edges={('business', 'business_has_category', 'category'): 0, ('business', 'business_to_review', 'review'): 745, ('business', 'business_to_tip', 'tip'): 120, ('category', 'category_to_business', 'business'): 0, ('review', 'review_to_business', 'business'): 0, ('review', 'review_to_user', 'user'): 1140, ('tip', 'tip_to_business', 'business'): 0, ('tip', 'tip_to_user', 'user'): 250, ('user', 'user_to_review', 'review'): 745, ('user', 'user_to_tip', 'tip'): 120, ('user', 'user_to_user', 'user'): 266},\n",
      "      metagraph=[('business', 'category', 'business_has_category'), ('business', 'review', 'business_to_review'), ('business', 'tip', 'business_to_tip'), ('category', 'business', 'category_to_business'), ('review', 'business', 'review_to_business'), ('review', 'user', 'review_to_user'), ('tip', 'business', 'tip_to_business'), ('tip', 'user', 'tip_to_user'), ('user', 'review', 'user_to_review'), ('user', 'tip', 'user_to_tip'), ('user', 'user', 'user_to_user')]), Block(num_src_nodes={'business': 0, 'category': 0, 'review': 745, 'tip': 120, 'user': 90},\n",
      "      num_dst_nodes={'business': 0, 'category': 0, 'review': 0, 'tip': 0, 'user': 64},\n",
      "      num_edges={('business', 'business_has_category', 'category'): 0, ('business', 'business_to_review', 'review'): 0, ('business', 'business_to_tip', 'tip'): 0, ('category', 'category_to_business', 'business'): 0, ('review', 'review_to_business', 'business'): 0, ('review', 'review_to_user', 'user'): 745, ('tip', 'tip_to_business', 'business'): 0, ('tip', 'tip_to_user', 'user'): 120, ('user', 'user_to_review', 'review'): 0, ('user', 'user_to_tip', 'tip'): 0, ('user', 'user_to_user', 'user'): 27},\n",
      "      metagraph=[('business', 'category', 'business_has_category'), ('business', 'review', 'business_to_review'), ('business', 'tip', 'business_to_tip'), ('category', 'business', 'category_to_business'), ('review', 'business', 'review_to_business'), ('review', 'user', 'review_to_user'), ('tip', 'business', 'tip_to_business'), ('tip', 'user', 'tip_to_user'), ('user', 'review', 'user_to_review'), ('user', 'tip', 'user_to_tip'), ('user', 'user', 'user_to_user')])]\n"
     ]
    },
    {
     "name": "stderr",
     "output_type": "stream",
     "text": [
      "/Users/filippominutella/miniconda3/lib/python3.10/site-packages/dgl/backend/pytorch/tensor.py:445: UserWarning: TypedStorage is deprecated. It will be removed in the future and UntypedStorage will be the only storage class. This should only matter to you if you are using storages directly.  To access UntypedStorage directly, use tensor.untyped_storage() instead of tensor.storage()\n",
      "  assert input.numel() == input.storage().size(), (\n"
     ]
    },
    {
     "name": "stdout",
     "output_type": "stream",
     "text": [
      "{'src': {'business': tensor([], size=(0, 256), grad_fn=<NativeLayerNormBackward0>), 'category': tensor([], size=(0, 256), grad_fn=<NativeLayerNormBackward0>), 'review': tensor([], size=(0, 256), grad_fn=<NativeLayerNormBackward0>), 'tip': tensor([], size=(0, 256), grad_fn=<NativeLayerNormBackward0>), 'user': tensor([[-0.5383,  0.1344,  1.9124,  ..., -0.8867,  2.5933, -0.3757],\n",
      "        [-0.3476,  0.4913,  1.5305,  ..., -0.8310,  3.4158, -0.6781],\n",
      "        [-0.8630,  0.2848,  0.6960,  ..., -0.9120, -0.5032,  0.2860],\n",
      "        ...,\n",
      "        [-0.8188,  0.5182,  0.8998,  ..., -0.8186,  0.7291, -0.0154],\n",
      "        [ 1.4346, -0.4769,  2.1302,  ..., -0.9533,  3.0960, -0.8752],\n",
      "        [-0.8189,  0.8038,  1.2316,  ..., -0.8768,  2.4058, -0.6116]],\n",
      "       grad_fn=<NativeLayerNormBackward0>)}, 'dst': {}}\n",
      "{'src': {'business': tensor([[ 2.2826, -0.6616,  0.3384,  ..., -0.5540,  2.6382, -0.7411],\n",
      "        [ 1.6228, -0.7555,  2.0287,  ..., -0.7953,  1.4241, -0.8384],\n",
      "        [ 2.2896, -0.6736,  0.9918,  ..., -0.6913,  1.9576, -0.7835],\n",
      "        ...,\n",
      "        [ 2.2961, -0.7198,  1.1611,  ..., -0.5311,  1.6095, -0.7895],\n",
      "        [ 1.8166,  0.1751, -0.6328,  ...,  0.3527,  2.0564, -0.4588],\n",
      "        [ 1.4812,  0.4463, -0.6474,  ...,  0.5233,  1.8839,  0.0362]],\n",
      "       grad_fn=<NativeLayerNormBackward0>), 'category': tensor([], size=(0, 256), grad_fn=<NativeLayerNormBackward0>), 'review': tensor([], size=(0, 256), grad_fn=<NativeLayerNormBackward0>), 'tip': tensor([], size=(0, 256), grad_fn=<NativeLayerNormBackward0>), 'user': tensor([], size=(0, 256), grad_fn=<NativeLayerNormBackward0>)}, 'dst': {}}\n",
      "{'src': {'business': tensor([], size=(0, 256), grad_fn=<NativeLayerNormBackward0>), 'category': tensor([], size=(0, 256), grad_fn=<NativeLayerNormBackward0>), 'review': tensor([], size=(0, 256), grad_fn=<NativeLayerNormBackward0>), 'tip': tensor([], size=(0, 256), grad_fn=<NativeLayerNormBackward0>), 'user': tensor([[-0.9017,  1.0750,  0.9344,  ..., -0.9554,  1.3903, -0.4693],\n",
      "        [-0.8866,  0.6808,  1.5932,  ..., -0.9116,  1.3866, -0.4024],\n",
      "        [-0.8876,  0.7036,  0.8654,  ..., -0.9396,  0.7307, -0.0190],\n",
      "        ...,\n",
      "        [-0.8095, -0.0332,  1.3036,  ..., -0.8095, -0.8887,  0.1583],\n",
      "        [ 1.0741, -0.3572,  1.2272,  ..., -1.0845,  3.5358, -0.3039],\n",
      "        [-0.8488, -0.4890,  1.5234,  ..., -0.8555, -0.8149,  0.4238]],\n",
      "       grad_fn=<NativeLayerNormBackward0>)}, 'dst': {}}\n"
     ]
    },
    {
     "ename": "",
     "evalue": "",
     "output_type": "error",
     "traceback": [
      "\u001b[1;31mThe Kernel crashed while executing code in the the current cell or a previous cell. Please review the code in the cell(s) to identify a possible cause of the failure. Click <a href='https://aka.ms/vscodeJupyterKernelCrash'>here</a> for more info. View Jupyter <a href='command:jupyter.viewOutput'>log</a> for further details."
     ]
    },
    {
     "ename": "",
     "evalue": "",
     "output_type": "error",
     "traceback": [
      "\u001b[1;31mCanceled future for execute_request message before replies were done"
     ]
    }
   ],
   "source": [
    "def split(list_a, chunk_size):\n",
    "    for i in range(0, len(list_a), chunk_size):\n",
    "        yield list_a[i:i + chunk_size]\n",
    "batch_size = 64\n",
    "for epoch in range(1):\n",
    "    model.train()\n",
    "    random.shuffle(train_pos_ids)\n",
    "    random.shuffle(train_neg_ids)\n",
    "    for batch in split(list(zip(train_pos_ids, train_neg_ids)), batch_size):\n",
    "        opt.zero_grad()\n",
    "        pos_ids, neg_ids = list(zip(*batch))\n",
    "        pos_block_user = [blocks for _, _, blocks in dgl.dataloading.DataLoader(\n",
    "            g, {'user': torch.index_select(train['pos'][0], 0, torch.tensor(pos_ids))}, sampler,\n",
    "            batch_size=batch_size, shuffle=False, drop_last=False, num_workers=4)][0]\n",
    "        \n",
    "        pos_block_business = [blocks for _, _, blocks in dgl.dataloading.DataLoader(\n",
    "            g, {'business': torch.index_select(train['pos'][1], 0, torch.tensor(pos_ids))}, sampler,\n",
    "            batch_size=batch_size, shuffle=False, drop_last=False, num_workers=4)][0]\n",
    "        \n",
    "        neg_block_user = [blocks for _, _, blocks in dgl.dataloading.DataLoader(\n",
    "            g,{'user': torch.index_select(train['neg'][0], 0, torch.tensor(neg_ids))}, sampler,\n",
    "            batch_size=batch_size, shuffle=False, drop_last=False, num_workers=4)][0]\n",
    "        \n",
    "        neg_block_business = [blocks for _, _, blocks in dgl.dataloading.DataLoader(\n",
    "            g, {'business': torch.index_select(train['neg'][1], 0, torch.tensor(neg_ids))}, sampler,\n",
    "            batch_size=batch_size, shuffle=False, drop_last=False, num_workers=4)][0]\n",
    "        pos_user_logits =  model(pos_block_user, 'user')\n",
    "        pos_business_logits =  model(pos_block_business, 'business')\n",
    "        neg_user_logits =  model(neg_block_user, 'user')\n",
    "        neg_business_logits =  model(neg_block_business, 'business')\n",
    "        break\n",
    "    break"
   ]
  }
 ],
 "metadata": {
  "kernelspec": {
   "display_name": "base",
   "language": "python",
   "name": "python3"
  },
  "language_info": {
   "codemirror_mode": {
    "name": "ipython",
    "version": 3
   },
   "file_extension": ".py",
   "mimetype": "text/x-python",
   "name": "python",
   "nbconvert_exporter": "python",
   "pygments_lexer": "ipython3",
   "version": "3.10.8"
  },
  "orig_nbformat": 4
 },
 "nbformat": 4,
 "nbformat_minor": 2
}
